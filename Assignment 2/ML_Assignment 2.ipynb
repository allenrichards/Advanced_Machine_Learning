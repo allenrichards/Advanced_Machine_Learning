{
  "cells": [
    {
      "cell_type": "markdown",
      "metadata": {
        "id": "s1ZTa32lsjP1"
      },
      "source": [
        "This is a companion notebook for the book [Deep Learning with Python, Second Edition](https://www.manning.com/books/deep-learning-with-python-second-edition?a_aid=keras&a_bid=76564dff). For readability, it only contains runnable code blocks and section titles, and omits everything else in the book: text paragraphs, figures, and pseudocode.\n",
        "\n",
        "**If you want to be able to follow what's going on, I recommend reading the notebook side by side with your copy of the book.**\n",
        "\n",
        "This notebook was generated for TensorFlow 2.6."
      ]
    },
    {
      "cell_type": "markdown",
      "metadata": {
        "id": "7dB9NEmSsjP2"
      },
      "source": [
        "# Getting started with neural networks: Classification and regression"
      ]
    },
    {
      "cell_type": "markdown",
      "metadata": {
        "id": "tAQA5S3wsjP3"
      },
      "source": [
        "## Classifying movie reviews: A binary classification example"
      ]
    },
    {
      "cell_type": "markdown",
      "metadata": {
        "id": "GZjkJ1IDsjP3"
      },
      "source": [
        "### The IMDB dataset"
      ]
    },
    {
      "cell_type": "markdown",
      "metadata": {
        "id": "Y_Hlsyc_sjP3"
      },
      "source": [
        "**Loading the IMDB dataset**"
      ]
    },
    {
      "cell_type": "code",
      "execution_count": 2,
      "metadata": {
        "colab": {
          "base_uri": "https://localhost:8080/"
        },
        "id": "uZgqFKI_sjP3",
        "outputId": "1c52381e-7867-40e4-f3bb-f419406e979b"
      },
      "outputs": [
        {
          "output_type": "stream",
          "name": "stdout",
          "text": [
            "Downloading data from https://storage.googleapis.com/tensorflow/tf-keras-datasets/imdb.npz\n",
            "\u001b[1m17464789/17464789\u001b[0m \u001b[32m━━━━━━━━━━━━━━━━━━━━\u001b[0m\u001b[37m\u001b[0m \u001b[1m0s\u001b[0m 0us/step\n"
          ]
        }
      ],
      "source": [
        "from tensorflow.keras.datasets import imdb\n",
        "# Load the IMDB dataset with the top 10,000 most frequent words\n",
        "(train_data, train_labels), (test_data, test_labels) = imdb.load_data(\n",
        "    num_words=10000)"
      ]
    },
    {
      "cell_type": "code",
      "execution_count": 3,
      "metadata": {
        "colab": {
          "base_uri": "https://localhost:8080/"
        },
        "id": "gXj7FypfsjP4",
        "outputId": "99462bc7-0eb0-4b5b-d9db-a447a5f98fb7"
      },
      "outputs": [
        {
          "output_type": "execute_result",
          "data": {
            "text/plain": [
              "[1,\n",
              " 14,\n",
              " 22,\n",
              " 16,\n",
              " 43,\n",
              " 530,\n",
              " 973,\n",
              " 1622,\n",
              " 1385,\n",
              " 65,\n",
              " 458,\n",
              " 4468,\n",
              " 66,\n",
              " 3941,\n",
              " 4,\n",
              " 173,\n",
              " 36,\n",
              " 256,\n",
              " 5,\n",
              " 25,\n",
              " 100,\n",
              " 43,\n",
              " 838,\n",
              " 112,\n",
              " 50,\n",
              " 670,\n",
              " 2,\n",
              " 9,\n",
              " 35,\n",
              " 480,\n",
              " 284,\n",
              " 5,\n",
              " 150,\n",
              " 4,\n",
              " 172,\n",
              " 112,\n",
              " 167,\n",
              " 2,\n",
              " 336,\n",
              " 385,\n",
              " 39,\n",
              " 4,\n",
              " 172,\n",
              " 4536,\n",
              " 1111,\n",
              " 17,\n",
              " 546,\n",
              " 38,\n",
              " 13,\n",
              " 447,\n",
              " 4,\n",
              " 192,\n",
              " 50,\n",
              " 16,\n",
              " 6,\n",
              " 147,\n",
              " 2025,\n",
              " 19,\n",
              " 14,\n",
              " 22,\n",
              " 4,\n",
              " 1920,\n",
              " 4613,\n",
              " 469,\n",
              " 4,\n",
              " 22,\n",
              " 71,\n",
              " 87,\n",
              " 12,\n",
              " 16,\n",
              " 43,\n",
              " 530,\n",
              " 38,\n",
              " 76,\n",
              " 15,\n",
              " 13,\n",
              " 1247,\n",
              " 4,\n",
              " 22,\n",
              " 17,\n",
              " 515,\n",
              " 17,\n",
              " 12,\n",
              " 16,\n",
              " 626,\n",
              " 18,\n",
              " 2,\n",
              " 5,\n",
              " 62,\n",
              " 386,\n",
              " 12,\n",
              " 8,\n",
              " 316,\n",
              " 8,\n",
              " 106,\n",
              " 5,\n",
              " 4,\n",
              " 2223,\n",
              " 5244,\n",
              " 16,\n",
              " 480,\n",
              " 66,\n",
              " 3785,\n",
              " 33,\n",
              " 4,\n",
              " 130,\n",
              " 12,\n",
              " 16,\n",
              " 38,\n",
              " 619,\n",
              " 5,\n",
              " 25,\n",
              " 124,\n",
              " 51,\n",
              " 36,\n",
              " 135,\n",
              " 48,\n",
              " 25,\n",
              " 1415,\n",
              " 33,\n",
              " 6,\n",
              " 22,\n",
              " 12,\n",
              " 215,\n",
              " 28,\n",
              " 77,\n",
              " 52,\n",
              " 5,\n",
              " 14,\n",
              " 407,\n",
              " 16,\n",
              " 82,\n",
              " 2,\n",
              " 8,\n",
              " 4,\n",
              " 107,\n",
              " 117,\n",
              " 5952,\n",
              " 15,\n",
              " 256,\n",
              " 4,\n",
              " 2,\n",
              " 7,\n",
              " 3766,\n",
              " 5,\n",
              " 723,\n",
              " 36,\n",
              " 71,\n",
              " 43,\n",
              " 530,\n",
              " 476,\n",
              " 26,\n",
              " 400,\n",
              " 317,\n",
              " 46,\n",
              " 7,\n",
              " 4,\n",
              " 2,\n",
              " 1029,\n",
              " 13,\n",
              " 104,\n",
              " 88,\n",
              " 4,\n",
              " 381,\n",
              " 15,\n",
              " 297,\n",
              " 98,\n",
              " 32,\n",
              " 2071,\n",
              " 56,\n",
              " 26,\n",
              " 141,\n",
              " 6,\n",
              " 194,\n",
              " 7486,\n",
              " 18,\n",
              " 4,\n",
              " 226,\n",
              " 22,\n",
              " 21,\n",
              " 134,\n",
              " 476,\n",
              " 26,\n",
              " 480,\n",
              " 5,\n",
              " 144,\n",
              " 30,\n",
              " 5535,\n",
              " 18,\n",
              " 51,\n",
              " 36,\n",
              " 28,\n",
              " 224,\n",
              " 92,\n",
              " 25,\n",
              " 104,\n",
              " 4,\n",
              " 226,\n",
              " 65,\n",
              " 16,\n",
              " 38,\n",
              " 1334,\n",
              " 88,\n",
              " 12,\n",
              " 16,\n",
              " 283,\n",
              " 5,\n",
              " 16,\n",
              " 4472,\n",
              " 113,\n",
              " 103,\n",
              " 32,\n",
              " 15,\n",
              " 16,\n",
              " 5345,\n",
              " 19,\n",
              " 178,\n",
              " 32]"
            ]
          },
          "metadata": {},
          "execution_count": 3
        }
      ],
      "source": [
        "# Print the first review (as a sequence of integers)\n",
        "train_data[0]"
      ]
    },
    {
      "cell_type": "code",
      "execution_count": 4,
      "metadata": {
        "colab": {
          "base_uri": "https://localhost:8080/"
        },
        "id": "J0byZmt5sjP4",
        "outputId": "5089c0cc-6697-4c47-bea2-f4c4ba089eb6"
      },
      "outputs": [
        {
          "output_type": "execute_result",
          "data": {
            "text/plain": [
              "1"
            ]
          },
          "metadata": {},
          "execution_count": 4
        }
      ],
      "source": [
        "#Print the first review's label (1 = positive, 0 = negative)\n",
        "train_labels[0]"
      ]
    },
    {
      "cell_type": "code",
      "execution_count": 5,
      "metadata": {
        "colab": {
          "base_uri": "https://localhost:8080/"
        },
        "id": "Y1TqeEnGsjP4",
        "outputId": "2bea6f00-2983-4426-ce3b-60fd74098130"
      },
      "outputs": [
        {
          "output_type": "execute_result",
          "data": {
            "text/plain": [
              "9999"
            ]
          },
          "metadata": {},
          "execution_count": 5
        }
      ],
      "source": [
        "# Ensures all words are within the 10,000-word limit\n",
        "max([max(sequence) for sequence in train_data])"
      ]
    },
    {
      "cell_type": "markdown",
      "metadata": {
        "id": "c-Wnt8QCsjP4"
      },
      "source": [
        "**Decoding reviews back to text**"
      ]
    },
    {
      "cell_type": "code",
      "execution_count": 6,
      "metadata": {
        "colab": {
          "base_uri": "https://localhost:8080/"
        },
        "id": "gfxscufjsjP5",
        "outputId": "aab183b8-8f15-4ff7-c754-fb79c56351a8"
      },
      "outputs": [
        {
          "output_type": "stream",
          "name": "stdout",
          "text": [
            "Downloading data from https://storage.googleapis.com/tensorflow/tf-keras-datasets/imdb_word_index.json\n",
            "\u001b[1m1641221/1641221\u001b[0m \u001b[32m━━━━━━━━━━━━━━━━━━━━\u001b[0m\u001b[37m\u001b[0m \u001b[1m0s\u001b[0m 0us/step\n"
          ]
        }
      ],
      "source": [
        "# Get the word index dictionary mapping words to their assigned integer index\n",
        "word_index = imdb.get_word_index()\n",
        "\n",
        "# Reverse the word index to map integer indices back to words\n",
        "reverse_word_index = dict(\n",
        "    [(value, key) for (key, value) in word_index.items()])\n",
        "\n",
        "# Decode the first review:\n",
        "# - IMDB dataset reserves the first 3 indices (0, 1, 2) for special tokens,\n",
        "#   so we subtract 3 from each index when mapping it back to a word.\n",
        "# - If a word index is not found, we replace it with \"?\"\n",
        "decoded_review = \" \".join(\n",
        "    [reverse_word_index.get(i - 3, \"?\") for i in train_data[0]])"
      ]
    },
    {
      "cell_type": "markdown",
      "metadata": {
        "id": "Zyq4e70hsjP5"
      },
      "source": [
        "### Preparing the data"
      ]
    },
    {
      "cell_type": "markdown",
      "metadata": {
        "id": "Alx_DbylsjP5"
      },
      "source": [
        "**Encoding the integer sequences via multi-hot encoding**"
      ]
    },
    {
      "cell_type": "code",
      "execution_count": 7,
      "metadata": {
        "id": "3o2tEoaosjP5"
      },
      "outputs": [],
      "source": [
        "import numpy as np\n",
        "\n",
        "# Function to convert sequences of word indices into binary vector representations\n",
        "def vectorize_sequences(sequences, dimension=10000):\n",
        "    # Create a zero matrix of shape (number of samples, vocabulary size)\n",
        "    results = np.zeros((len(sequences), dimension))\n",
        "\n",
        "    # Set the corresponding index in the vector to 1 if the word is present in the review\n",
        "    for i, sequence in enumerate(sequences):\n",
        "        for j in sequence:\n",
        "            results[i, j] = 1.  # Mark word presence as 1 (one-hot encoding)\n",
        "    return results\n",
        "\n",
        "# Vectorizing the training and testing data\n",
        "x_train = vectorize_sequences(train_data)\n",
        "x_test = vectorize_sequences(test_data)"
      ]
    },
    {
      "cell_type": "code",
      "execution_count": 8,
      "metadata": {
        "colab": {
          "base_uri": "https://localhost:8080/"
        },
        "id": "v4Sb_D2NsjP5",
        "outputId": "b53623b1-6e7e-4db9-ef0a-979e43049720"
      },
      "outputs": [
        {
          "output_type": "execute_result",
          "data": {
            "text/plain": [
              "array([0., 1., 1., ..., 0., 0., 0.])"
            ]
          },
          "metadata": {},
          "execution_count": 8
        }
      ],
      "source": [
        "# Display the first vectorized review (binary representation of word presence)\n",
        "x_train[0]"
      ]
    },
    {
      "cell_type": "code",
      "execution_count": 10,
      "metadata": {
        "id": "I2qJlMqesjP5"
      },
      "outputs": [],
      "source": [
        "# Convert the labels to a NumPy array of type float32\n",
        "# - IMDB labels are originally in integer format (0 or 1)\n",
        "# - Converting them to float32 ensures compatibility with neural network models\n",
        "y_train = np.asarray(train_labels).astype(\"float32\")\n",
        "y_test = np.asarray(test_labels).astype(\"float32\")"
      ]
    },
    {
      "cell_type": "markdown",
      "metadata": {
        "id": "jBSi0wrUsjP5"
      },
      "source": [
        "### Building your model"
      ]
    },
    {
      "cell_type": "markdown",
      "metadata": {
        "id": "jLt6IbWwsjP5"
      },
      "source": [
        "**Model definition**"
      ]
    },
    {
      "cell_type": "code",
      "execution_count": 12,
      "metadata": {
        "id": "ctZAmpHnsjP5"
      },
      "outputs": [],
      "source": [
        "from tensorflow import keras\n",
        "from tensorflow.keras import layers\n",
        "\n",
        "# Defining a Sequential model\n",
        "model = keras.Sequential([\n",
        "    # First hidden layer with 16 neurons and ReLU activation\n",
        "    layers.Dense(16, activation=\"relu\"),\n",
        "\n",
        "    # Second hidden layer with 16 neurons and ReLU activation\n",
        "    layers.Dense(16, activation=\"relu\"),\n",
        "\n",
        "    # Output layer with 1 neuron and sigmoid activation\n",
        "    # - Sigmoid is used to output a probability (since this is a binary classification problem)\n",
        "    layers.Dense(1, activation=\"sigmoid\")\n",
        "])"
      ]
    },
    {
      "cell_type": "markdown",
      "metadata": {
        "id": "4FZ8aHV2sjP6"
      },
      "source": [
        "**Compiling the model**"
      ]
    },
    {
      "cell_type": "code",
      "execution_count": 13,
      "metadata": {
        "id": "Y_LBxDRDsjP6"
      },
      "outputs": [],
      "source": [
        "# Compile the model with the chosen optimizer, loss function, and evaluation metric\n",
        "model.compile(optimizer=\"rmsprop\", # RMSprop optimizer helps with adaptive learning rates\n",
        "              loss=\"binary_crossentropy\", # Binary cross-entropy is ideal for binary classification tasks\n",
        "              metrics=[\"accuracy\"]) # Track accuracy as the performance metric"
      ]
    },
    {
      "cell_type": "markdown",
      "metadata": {
        "id": "L8zp-JnUsjP6"
      },
      "source": [
        "### Validating your approach"
      ]
    },
    {
      "cell_type": "markdown",
      "metadata": {
        "id": "Lfp9LtmtsjP6"
      },
      "source": [
        "**Setting aside a validation set**"
      ]
    },
    {
      "cell_type": "code",
      "execution_count": 15,
      "metadata": {
        "id": "1KASHcc1sjP6"
      },
      "outputs": [],
      "source": [
        "# Splitting the training data into a validation set and a smaller training set\n",
        "\n",
        "# First 10,000 samples for validation\n",
        "x_val = x_train[:10000]\n",
        "partial_x_train = x_train[10000:]\n",
        "\n",
        "# Remaining samples for training\n",
        "y_val = y_train[:10000]\n",
        "partial_y_train = y_train[10000:]"
      ]
    },
    {
      "cell_type": "markdown",
      "metadata": {
        "id": "6ZfMckHDsjP6"
      },
      "source": [
        "**Training your model**"
      ]
    },
    {
      "cell_type": "code",
      "execution_count": 16,
      "metadata": {
        "colab": {
          "base_uri": "https://localhost:8080/"
        },
        "id": "PS6cX4BLsjP6",
        "outputId": "3bd8a4b9-63f2-4e7e-f931-1808f7e9fb8f"
      },
      "outputs": [
        {
          "output_type": "stream",
          "name": "stdout",
          "text": [
            "Epoch 1/20\n",
            "\u001b[1m30/30\u001b[0m \u001b[32m━━━━━━━━━━━━━━━━━━━━\u001b[0m\u001b[37m\u001b[0m \u001b[1m4s\u001b[0m 82ms/step - accuracy: 0.6945 - loss: 0.6074 - val_accuracy: 0.8661 - val_loss: 0.4131\n",
            "Epoch 2/20\n",
            "\u001b[1m30/30\u001b[0m \u001b[32m━━━━━━━━━━━━━━━━━━━━\u001b[0m\u001b[37m\u001b[0m \u001b[1m2s\u001b[0m 63ms/step - accuracy: 0.8923 - loss: 0.3592 - val_accuracy: 0.8706 - val_loss: 0.3403\n",
            "Epoch 3/20\n",
            "\u001b[1m30/30\u001b[0m \u001b[32m━━━━━━━━━━━━━━━━━━━━\u001b[0m\u001b[37m\u001b[0m \u001b[1m1s\u001b[0m 34ms/step - accuracy: 0.9157 - loss: 0.2656 - val_accuracy: 0.8926 - val_loss: 0.2860\n",
            "Epoch 4/20\n",
            "\u001b[1m30/30\u001b[0m \u001b[32m━━━━━━━━━━━━━━━━━━━━\u001b[0m\u001b[37m\u001b[0m \u001b[1m1s\u001b[0m 34ms/step - accuracy: 0.9333 - loss: 0.2091 - val_accuracy: 0.8897 - val_loss: 0.2776\n",
            "Epoch 5/20\n",
            "\u001b[1m30/30\u001b[0m \u001b[32m━━━━━━━━━━━━━━━━━━━━\u001b[0m\u001b[37m\u001b[0m \u001b[1m1s\u001b[0m 34ms/step - accuracy: 0.9512 - loss: 0.1628 - val_accuracy: 0.8889 - val_loss: 0.2771\n",
            "Epoch 6/20\n",
            "\u001b[1m30/30\u001b[0m \u001b[32m━━━━━━━━━━━━━━━━━━━━\u001b[0m\u001b[37m\u001b[0m \u001b[1m1s\u001b[0m 34ms/step - accuracy: 0.9599 - loss: 0.1365 - val_accuracy: 0.8863 - val_loss: 0.2844\n",
            "Epoch 7/20\n",
            "\u001b[1m30/30\u001b[0m \u001b[32m━━━━━━━━━━━━━━━━━━━━\u001b[0m\u001b[37m\u001b[0m \u001b[1m1s\u001b[0m 35ms/step - accuracy: 0.9664 - loss: 0.1167 - val_accuracy: 0.8862 - val_loss: 0.2934\n",
            "Epoch 8/20\n",
            "\u001b[1m30/30\u001b[0m \u001b[32m━━━━━━━━━━━━━━━━━━━━\u001b[0m\u001b[37m\u001b[0m \u001b[1m1s\u001b[0m 35ms/step - accuracy: 0.9726 - loss: 0.0998 - val_accuracy: 0.8782 - val_loss: 0.3176\n",
            "Epoch 9/20\n",
            "\u001b[1m30/30\u001b[0m \u001b[32m━━━━━━━━━━━━━━━━━━━━\u001b[0m\u001b[37m\u001b[0m \u001b[1m1s\u001b[0m 34ms/step - accuracy: 0.9786 - loss: 0.0858 - val_accuracy: 0.8790 - val_loss: 0.3462\n",
            "Epoch 10/20\n",
            "\u001b[1m30/30\u001b[0m \u001b[32m━━━━━━━━━━━━━━━━━━━━\u001b[0m\u001b[37m\u001b[0m \u001b[1m1s\u001b[0m 33ms/step - accuracy: 0.9826 - loss: 0.0733 - val_accuracy: 0.8815 - val_loss: 0.3347\n",
            "Epoch 11/20\n",
            "\u001b[1m30/30\u001b[0m \u001b[32m━━━━━━━━━━━━━━━━━━━━\u001b[0m\u001b[37m\u001b[0m \u001b[1m1s\u001b[0m 38ms/step - accuracy: 0.9883 - loss: 0.0589 - val_accuracy: 0.8753 - val_loss: 0.3641\n",
            "Epoch 12/20\n",
            "\u001b[1m30/30\u001b[0m \u001b[32m━━━━━━━━━━━━━━━━━━━━\u001b[0m\u001b[37m\u001b[0m \u001b[1m2s\u001b[0m 58ms/step - accuracy: 0.9910 - loss: 0.0492 - val_accuracy: 0.8762 - val_loss: 0.3751\n",
            "Epoch 13/20\n",
            "\u001b[1m30/30\u001b[0m \u001b[32m━━━━━━━━━━━━━━━━━━━━\u001b[0m\u001b[37m\u001b[0m \u001b[1m2s\u001b[0m 33ms/step - accuracy: 0.9919 - loss: 0.0431 - val_accuracy: 0.8793 - val_loss: 0.3980\n",
            "Epoch 14/20\n",
            "\u001b[1m30/30\u001b[0m \u001b[32m━━━━━━━━━━━━━━━━━━━━\u001b[0m\u001b[37m\u001b[0m \u001b[1m1s\u001b[0m 36ms/step - accuracy: 0.9951 - loss: 0.0336 - val_accuracy: 0.8694 - val_loss: 0.4297\n",
            "Epoch 15/20\n",
            "\u001b[1m30/30\u001b[0m \u001b[32m━━━━━━━━━━━━━━━━━━━━\u001b[0m\u001b[37m\u001b[0m \u001b[1m1s\u001b[0m 33ms/step - accuracy: 0.9952 - loss: 0.0310 - val_accuracy: 0.8713 - val_loss: 0.4403\n",
            "Epoch 16/20\n",
            "\u001b[1m30/30\u001b[0m \u001b[32m━━━━━━━━━━━━━━━━━━━━\u001b[0m\u001b[37m\u001b[0m \u001b[1m1s\u001b[0m 33ms/step - accuracy: 0.9971 - loss: 0.0235 - val_accuracy: 0.8741 - val_loss: 0.4576\n",
            "Epoch 17/20\n",
            "\u001b[1m30/30\u001b[0m \u001b[32m━━━━━━━━━━━━━━━━━━━━\u001b[0m\u001b[37m\u001b[0m \u001b[1m1s\u001b[0m 33ms/step - accuracy: 0.9980 - loss: 0.0191 - val_accuracy: 0.8629 - val_loss: 0.5166\n",
            "Epoch 18/20\n",
            "\u001b[1m30/30\u001b[0m \u001b[32m━━━━━━━━━━━━━━━━━━━━\u001b[0m\u001b[37m\u001b[0m \u001b[1m1s\u001b[0m 36ms/step - accuracy: 0.9980 - loss: 0.0172 - val_accuracy: 0.8686 - val_loss: 0.5128\n",
            "Epoch 19/20\n",
            "\u001b[1m30/30\u001b[0m \u001b[32m━━━━━━━━━━━━━━━━━━━━\u001b[0m\u001b[37m\u001b[0m \u001b[1m1s\u001b[0m 35ms/step - accuracy: 0.9993 - loss: 0.0138 - val_accuracy: 0.8706 - val_loss: 0.5298\n",
            "Epoch 20/20\n",
            "\u001b[1m30/30\u001b[0m \u001b[32m━━━━━━━━━━━━━━━━━━━━\u001b[0m\u001b[37m\u001b[0m \u001b[1m1s\u001b[0m 34ms/step - accuracy: 0.9993 - loss: 0.0107 - val_accuracy: 0.8719 - val_loss: 0.5497\n"
          ]
        }
      ],
      "source": [
        "# Training the model using the training data and validating on the validation set\n",
        "history = model.fit(\n",
        "    partial_x_train,       # Training data (excluding validation set)\n",
        "    partial_y_train,       # Training labels\n",
        "    epochs=20,             # Train for 20 epochs (full passes through the dataset)\n",
        "    batch_size=512,        # Process 512 samples at a time (mini-batch gradient descent)\n",
        "    validation_data=(x_val, y_val)  # Use validation data to monitor performance\n",
        ")"
      ]
    },
    {
      "cell_type": "code",
      "execution_count": 17,
      "metadata": {
        "colab": {
          "base_uri": "https://localhost:8080/"
        },
        "id": "BHUDhWuBsjP6",
        "outputId": "0876500d-c0c1-4d63-a00b-037af7ba6aae"
      },
      "outputs": [
        {
          "output_type": "execute_result",
          "data": {
            "text/plain": [
              "dict_keys(['accuracy', 'loss', 'val_accuracy', 'val_loss'])"
            ]
          },
          "metadata": {},
          "execution_count": 17
        }
      ],
      "source": [
        "# Extracting the training history data\n",
        "history_dict = history.history\n",
        "\n",
        "# Displaying the available keys in the history dictionary\n",
        "# The keys represent different metrics recorded during training\n",
        "history_dict.keys()\n"
      ]
    },
    {
      "cell_type": "markdown",
      "metadata": {
        "id": "oUakNFf-sjP6"
      },
      "source": [
        "**Plotting the training and validation loss**"
      ]
    },
    {
      "cell_type": "code",
      "execution_count": 18,
      "metadata": {
        "colab": {
          "base_uri": "https://localhost:8080/",
          "height": 472
        },
        "id": "ImiS2mStsjP6",
        "outputId": "8d640767-529b-4a75-f141-f2561da2227b"
      },
      "outputs": [
        {
          "output_type": "display_data",
          "data": {
            "text/plain": [
              "<Figure size 640x480 with 1 Axes>"
            ],
            "image/png": "[encoded data removed]"
          },
          "metadata": {}
        }
      ],
      "source": [
        "import matplotlib.pyplot as plt\n",
        "\n",
        "# Extracting training history\n",
        "history_dict = history.history\n",
        "\n",
        "# Retrieving loss values for both training and validation sets\n",
        "loss_values = history_dict[\"loss\"]\n",
        "val_loss_values = history_dict[\"val_loss\"]\n",
        "\n",
        "# Defining the range of epochs\n",
        "epochs = range(1, len(loss_values) + 1)\n",
        "\n",
        "# Plotting training loss\n",
        "plt.plot(epochs, loss_values, \"bo\", label=\"Training loss\")  # 'bo' = blue dots\n",
        "\n",
        "# Plotting validation loss\n",
        "plt.plot(epochs, val_loss_values, \"b\", label=\"Validation loss\")  # 'b' = blue line\n",
        "\n",
        "# Setting chart title and labels\n",
        "plt.title(\"Training and validation loss\")\n",
        "plt.xlabel(\"Epochs\")\n",
        "plt.ylabel(\"Loss\")\n",
        "\n",
        "# Displaying legend to differentiate training vs. validation loss\n",
        "plt.legend()\n",
        "\n",
        "# Showing the plot\n",
        "plt.show()\n"
      ]
    },
    {
      "cell_type": "markdown",
      "metadata": {
        "id": "DIXXV0DIsjP6"
      },
      "source": [
        "**Plotting the training and validation accuracy**"
      ]
    },
    {
      "cell_type": "code",
      "execution_count": 19,
      "metadata": {
        "colab": {
          "base_uri": "https://localhost:8080/",
          "height": 472
        },
        "id": "LLpYDydzsjP6",
        "outputId": "9fea702e-9ebc-45ce-8a5e-7f563783899f"
      },
      "outputs": [
        {
          "output_type": "display_data",
          "data": {
            "text/plain": [
              "<Figure size 640x480 with 1 Axes>"
            ],
            "image/png": "[encoded data removed]"
          },
          "metadata": {}
        }
      ],
      "source": [
        "# Clearing the previous plot\n",
        "plt.clf()\n",
        "\n",
        "# Retrieving accuracy values for both training and validation sets\n",
        "acc = history_dict[\"accuracy\"]\n",
        "val_acc = history_dict[\"val_accuracy\"]\n",
        "\n",
        "# Plotting training accuracy\n",
        "plt.plot(epochs, acc, \"bo\", label=\"Training accuracy\")  # 'bo' = blue dots\n",
        "\n",
        "# Plotting validation accuracy\n",
        "plt.plot(epochs, val_acc, \"b\", label=\"Validation accuracy\")  # 'b' = blue line\n",
        "\n",
        "# Setting chart title and labels\n",
        "plt.title(\"Training and validation accuracy\")\n",
        "plt.xlabel(\"Epochs\")\n",
        "plt.ylabel(\"Accuracy\")\n",
        "\n",
        "# Displaying legend to differentiate training vs. validation accuracy\n",
        "plt.legend()\n",
        "\n",
        "# Showing the plot\n",
        "plt.show()\n"
      ]
    },
    {
      "cell_type": "markdown",
      "metadata": {
        "id": "OE4jEJTwsjP7"
      },
      "source": [
        "**Retraining a model from scratch**"
      ]
    },
    {
      "cell_type": "code",
      "execution_count": 20,
      "metadata": {
        "colab": {
          "base_uri": "https://localhost:8080/"
        },
        "id": "SaDCFINHsjP7",
        "outputId": "2751bf85-87ec-4318-b35a-97dc7c2c49b9"
      },
      "outputs": [
        {
          "output_type": "stream",
          "name": "stdout",
          "text": [
            "Epoch 1/4\n",
            "\u001b[1m49/49\u001b[0m \u001b[32m━━━━━━━━━━━━━━━━━━━━\u001b[0m\u001b[37m\u001b[0m \u001b[1m3s\u001b[0m 30ms/step - accuracy: 0.6981 - loss: 0.6021\n",
            "Epoch 2/4\n",
            "\u001b[1m49/49\u001b[0m \u001b[32m━━━━━━━━━━━━━━━━━━━━\u001b[0m\u001b[37m\u001b[0m \u001b[1m2s\u001b[0m 42ms/step - accuracy: 0.8958 - loss: 0.3167\n",
            "Epoch 3/4\n",
            "\u001b[1m49/49\u001b[0m \u001b[32m━━━━━━━━━━━━━━━━━━━━\u001b[0m\u001b[37m\u001b[0m \u001b[1m2s\u001b[0m 31ms/step - accuracy: 0.9194 - loss: 0.2262\n",
            "Epoch 4/4\n",
            "\u001b[1m49/49\u001b[0m \u001b[32m━━━━━━━━━━━━━━━━━━━━\u001b[0m\u001b[37m\u001b[0m \u001b[1m2s\u001b[0m 25ms/step - accuracy: 0.9360 - loss: 0.1834\n",
            "\u001b[1m782/782\u001b[0m \u001b[32m━━━━━━━━━━━━━━━━━━━━\u001b[0m\u001b[37m\u001b[0m \u001b[1m2s\u001b[0m 3ms/step - accuracy: 0.8841 - loss: 0.2903\n"
          ]
        }
      ],
      "source": [
        "# Defining a Sequential neural network model\n",
        "model = keras.Sequential([\n",
        "    layers.Dense(16, activation=\"relu\"),  # First hidden layer with 16 units and ReLU activation\n",
        "    layers.Dense(16, activation=\"relu\"),  # Second hidden layer with 16 units and ReLU activation\n",
        "    layers.Dense(1, activation=\"sigmoid\")  # Output layer with 1 unit and sigmoid activation for binary classification\n",
        "])\n",
        "\n",
        "# Compiling the model with optimizer, loss function, and evaluation metric\n",
        "model.compile(optimizer=\"rmsprop\",  # RMSprop optimizer for better performance\n",
        "              loss=\"binary_crossentropy\",  # Binary cross-entropy loss for classification\n",
        "              metrics=[\"accuracy\"])  # Accuracy as the evaluation metric\n",
        "\n",
        "# Training the model on the full training dataset\n",
        "model.fit(x_train, y_train, epochs=4, batch_size=512)  # Training for 4 epochs with a batch size of 512\n",
        "\n",
        "# Evaluating the model on the test dataset\n",
        "results = model.evaluate(x_test, y_test)  # Returns loss and accuracy on the test set\n"
      ]
    },
    {
      "cell_type": "code",
      "execution_count": 21,
      "metadata": {
        "colab": {
          "base_uri": "https://localhost:8080/"
        },
        "id": "V6Be9AB0sjP7",
        "outputId": "8b71d983-1058-4f75-9980-d5aa48e933a5"
      },
      "outputs": [
        {
          "output_type": "execute_result",
          "data": {
            "text/plain": [
              "[0.2875634431838989, 0.8862800002098083]"
            ]
          },
          "metadata": {},
          "execution_count": 21
        }
      ],
      "source": [
        "results"
      ]
    },
    {
      "cell_type": "markdown",
      "metadata": {
        "id": "3RCy7KdbsjP7"
      },
      "source": [
        "### Using a trained model to generate predictions on new data"
      ]
    },
    {
      "cell_type": "code",
      "execution_count": 22,
      "metadata": {
        "colab": {
          "base_uri": "https://localhost:8080/"
        },
        "id": "2zzkWqIHsjP7",
        "outputId": "f230f58e-fca6-4307-9ea3-a3c7e1e91222"
      },
      "outputs": [
        {
          "output_type": "stream",
          "name": "stdout",
          "text": [
            "\u001b[1m782/782\u001b[0m \u001b[32m━━━━━━━━━━━━━━━━━━━━\u001b[0m\u001b[37m\u001b[0m \u001b[1m2s\u001b[0m 2ms/step\n"
          ]
        },
        {
          "output_type": "execute_result",
          "data": {
            "text/plain": [
              "array([[0.18749622],\n",
              "       [0.9999816 ],\n",
              "       [0.9616977 ],\n",
              "       ...,\n",
              "       [0.1085952 ],\n",
              "       [0.11427124],\n",
              "       [0.6924363 ]], dtype=float32)"
            ]
          },
          "metadata": {},
          "execution_count": 22
        }
      ],
      "source": [
        "# Generating predictions on the test dataset\n",
        "# The model outputs probability scores (ranging from 0 to 1), representing the confidence level\n",
        "# that a given review is positive.\n",
        "model.predict(x_test)\n"
      ]
    },
    {
      "cell_type": "markdown",
      "metadata": {
        "id": "kuLq39WHsjP7"
      },
      "source": [
        "### Further experiments"
      ]
    },
    {
      "cell_type": "markdown",
      "metadata": {
        "id": "G7TQCL-AsjP7"
      },
      "source": [
        "### Wrapping up"
      ]
    },
    {
      "cell_type": "markdown",
      "metadata": {
        "id": "QI4z_FblsjP7"
      },
      "source": [
        "## Classifying newswires: A multiclass classification example"
      ]
    },
    {
      "cell_type": "markdown",
      "metadata": {
        "id": "8R7O2z0HsjQI"
      },
      "source": [
        "### The Reuters dataset"
      ]
    },
    {
      "cell_type": "markdown",
      "metadata": {
        "id": "nOnM43E1sjQI"
      },
      "source": [
        "**Loading the Reuters dataset**"
      ]
    },
    {
      "cell_type": "code",
      "execution_count": 23,
      "metadata": {
        "colab": {
          "base_uri": "https://localhost:8080/"
        },
        "id": "93juywLrsjQI",
        "outputId": "949a76e9-5b3c-40ac-df76-b286290213f7"
      },
      "outputs": [
        {
          "output_type": "stream",
          "name": "stdout",
          "text": [
            "Downloading data from https://storage.googleapis.com/tensorflow/tf-keras-datasets/reuters.npz\n",
            "\u001b[1m2110848/2110848\u001b[0m \u001b[32m━━━━━━━━━━━━━━━━━━━━\u001b[0m\u001b[37m\u001b[0m \u001b[1m0s\u001b[0m 0us/step\n"
          ]
        }
      ],
      "source": [
        "# Importing the Reuters dataset from TensorFlow Keras\n",
        "from tensorflow.keras.datasets import reuters\n",
        "\n",
        "# Loading the Reuters dataset with the most frequent 10,000 words\n",
        "# - train_data and test_data contain lists of word indices representing news articles.\n",
        "# - train_labels and test_labels contain category labels for each article (integer-encoded).\n",
        "(train_data, train_labels), (test_data, test_labels) = reuters.load_data(num_words=10000)\n"
      ]
    },
    {
      "cell_type": "code",
      "execution_count": 24,
      "metadata": {
        "colab": {
          "base_uri": "https://localhost:8080/"
        },
        "id": "0hpBDv5osjQI",
        "outputId": "2b07f9e9-8340-4e42-920e-a88aa1fb5073"
      },
      "outputs": [
        {
          "output_type": "execute_result",
          "data": {
            "text/plain": [
              "8982"
            ]
          },
          "metadata": {},
          "execution_count": 24
        }
      ],
      "source": [
        "# Getting the number of training samples (news articles) in the dataset\n",
        "len(train_data)  # Returns the total number of training samples"
      ]
    },
    {
      "cell_type": "code",
      "execution_count": 22,
      "metadata": {
        "colab": {
          "base_uri": "https://localhost:8080/"
        },
        "id": "MGIlUA5hsjQI",
        "outputId": "906fe0ff-3c8b-4c40-bd94-de81165d9ca8"
      },
      "outputs": [
        {
          "output_type": "execute_result",
          "data": {
            "text/plain": [
              "2246"
            ]
          },
          "metadata": {},
          "execution_count": 22
        }
      ],
      "source": [
        "# Getting the number of test samples (news articles) in the dataset\n",
        "len(test_data)  # Returns the total number of test samples"
      ]
    },
    {
      "cell_type": "code",
      "execution_count": 25,
      "metadata": {
        "colab": {
          "base_uri": "https://localhost:8080/"
        },
        "id": "qInKIElPsjQI",
        "outputId": "67dcd015-2429-4e0a-8652-dd83fb94a961"
      },
      "outputs": [
        {
          "output_type": "execute_result",
          "data": {
            "text/plain": [
              "[1,\n",
              " 245,\n",
              " 273,\n",
              " 207,\n",
              " 156,\n",
              " 53,\n",
              " 74,\n",
              " 160,\n",
              " 26,\n",
              " 14,\n",
              " 46,\n",
              " 296,\n",
              " 26,\n",
              " 39,\n",
              " 74,\n",
              " 2979,\n",
              " 3554,\n",
              " 14,\n",
              " 46,\n",
              " 4689,\n",
              " 4329,\n",
              " 86,\n",
              " 61,\n",
              " 3499,\n",
              " 4795,\n",
              " 14,\n",
              " 61,\n",
              " 451,\n",
              " 4329,\n",
              " 17,\n",
              " 12]"
            ]
          },
          "metadata": {},
          "execution_count": 25
        }
      ],
      "source": [
        "# Displaying the 10th training sample\n",
        "# The output will be a list of integers representing word indices in the Reuters dataset.\n",
        "train_data[10]"
      ]
    },
    {
      "cell_type": "markdown",
      "metadata": {
        "id": "YjOz9tUesjQI"
      },
      "source": [
        "**Decoding newswires back to text**"
      ]
    },
    {
      "cell_type": "code",
      "execution_count": 26,
      "metadata": {
        "colab": {
          "base_uri": "https://localhost:8080/"
        },
        "id": "mY_fNWEVsjQI",
        "outputId": "c7fd9c3f-e98c-4346-d3e7-b217652021cc"
      },
      "outputs": [
        {
          "output_type": "stream",
          "name": "stdout",
          "text": [
            "Downloading data from https://storage.googleapis.com/tensorflow/tf-keras-datasets/reuters_word_index.json\n",
            "\u001b[1m550378/550378\u001b[0m \u001b[32m━━━━━━━━━━━━━━━━━━━━\u001b[0m\u001b[37m\u001b[0m \u001b[1m0s\u001b[0m 0us/step\n"
          ]
        }
      ],
      "source": [
        "# Retrieving the word index dictionary for the Reuters dataset\n",
        "# This dictionary maps words to their corresponding integer indices.\n",
        "word_index = reuters.get_word_index()\n",
        "\n",
        "# Reversing the word index to create a mapping from integer indices to words\n",
        "reverse_word_index = dict([(value, key) for (key, value) in word_index.items()])\n",
        "\n",
        "# Decoding the first news article in the training set\n",
        "# - The dataset offsets word indices by 3 to reserve indices for special tokens.\n",
        "# - Words not found in the dictionary are replaced with \"?\".\n",
        "decoded_newswire = \" \".join([reverse_word_index.get(i - 3, \"?\") for i in train_data[0]])\n"
      ]
    },
    {
      "cell_type": "code",
      "execution_count": 27,
      "metadata": {
        "colab": {
          "base_uri": "https://localhost:8080/"
        },
        "id": "pSqZKZJssjQI",
        "outputId": "6a5a6efd-087f-4d7b-8d59-ec3342ae4e5c"
      },
      "outputs": [
        {
          "output_type": "execute_result",
          "data": {
            "text/plain": [
              "3"
            ]
          },
          "metadata": {},
          "execution_count": 27
        }
      ],
      "source": [
        "# Retrieving the label (topic category) of the 10th training sample\n",
        "# The output will be an integer representing the category of the news article.\n",
        "train_labels[10]\n"
      ]
    },
    {
      "cell_type": "markdown",
      "metadata": {
        "id": "GB8dcmTjsjQI"
      },
      "source": [
        "### Preparing the data"
      ]
    },
    {
      "cell_type": "markdown",
      "metadata": {
        "id": "sQwOWTqJsjQI"
      },
      "source": [
        "**Encoding the input data**"
      ]
    },
    {
      "cell_type": "code",
      "execution_count": 28,
      "metadata": {
        "id": "SgpfWFAWsjQI"
      },
      "outputs": [],
      "source": [
        "# Converting the training and test data into binary vector format\n",
        "# Each sequence (news article) is represented as a vector of size 10,000,\n",
        "# where each index is set to 1 if the corresponding word is present in the article.\n",
        "\n",
        "x_train = vectorize_sequences(train_data)  # Vectorizing training data\n",
        "x_test = vectorize_sequences(test_data)    # Vectorizing test data\n"
      ]
    },
    {
      "cell_type": "markdown",
      "metadata": {
        "id": "ibPToRSTsjQI"
      },
      "source": [
        "**Encoding the labels**"
      ]
    },
    {
      "cell_type": "code",
      "execution_count": 29,
      "metadata": {
        "id": "OoR2ZtTmsjQI"
      },
      "outputs": [],
      "source": [
        "# Function to convert labels into one-hot encoded format\n",
        "# Since there are 46 different categories (news topics),\n",
        "# each label is converted into a binary vector of size 46,\n",
        "# where only the index corresponding to the label is set to 1.\n",
        "\n",
        "def to_one_hot(labels, dimension=46):\n",
        "    results = np.zeros((len(labels), dimension))  # Creating a zero matrix of shape (num_samples, 46)\n",
        "    for i, label in enumerate(labels):\n",
        "        results[i, label] = 1.  # Setting the corresponding index to 1\n",
        "    return results\n",
        "\n",
        "# One-hot encoding the training and test labels\n",
        "y_train = to_one_hot(train_labels)\n",
        "y_test = to_one_hot(test_labels)\n"
      ]
    },
    {
      "cell_type": "code",
      "execution_count": 30,
      "metadata": {
        "id": "zDA2oKXTsjQJ"
      },
      "outputs": [],
      "source": [
        "# Importing the built-in function to convert labels into one-hot encoded format\n",
        "from tensorflow.keras.utils import to_categorical\n",
        "\n",
        "# Using to_categorical to convert integer labels into one-hot encoded format\n",
        "# This function automatically converts each label into a binary vector of size equal to the number of categories.\n",
        "# In this case, since there are 46 categories (news topics), each label is transformed into a vector of size 46.\n",
        "\n",
        "y_train = to_categorical(train_labels)\n",
        "y_test = to_categorical(test_labels)\n"
      ]
    },
    {
      "cell_type": "markdown",
      "metadata": {
        "id": "IA6XR7JjsjQJ"
      },
      "source": [
        "### Building your model"
      ]
    },
    {
      "cell_type": "markdown",
      "metadata": {
        "id": "rkNGZRNUsjQJ"
      },
      "source": [
        "**Model definition**"
      ]
    },
    {
      "cell_type": "code",
      "execution_count": 31,
      "metadata": {
        "id": "2D_HObjSsjQJ"
      },
      "outputs": [],
      "source": [
        "# Defining a neural network model using the Sequential API\n",
        "model = keras.Sequential([\n",
        "    # First hidden layer with 64 neurons and ReLU activation\n",
        "    layers.Dense(64, activation=\"relu\"),\n",
        "\n",
        "    # Second hidden layer with 64 neurons and ReLU activation\n",
        "    layers.Dense(64, activation=\"relu\"),\n",
        "\n",
        "    # Output layer with 46 neurons (one for each class) and softmax activation\n",
        "    # Softmax ensures the output represents probabilities for each of the 46 categories.\n",
        "    layers.Dense(46, activation=\"softmax\")\n",
        "])\n"
      ]
    },
    {
      "cell_type": "markdown",
      "metadata": {
        "id": "1s8UudwNsjQJ"
      },
      "source": [
        "**Compiling the model**"
      ]
    },
    {
      "cell_type": "code",
      "execution_count": 32,
      "metadata": {
        "id": "YFK5J7bbsjQJ"
      },
      "outputs": [],
      "source": [
        "# Compiling the model with the following configurations:\n",
        "model.compile(\n",
        "    optimizer=\"rmsprop\",  # Using RMSprop optimizer for efficient gradient updates\n",
        "    loss=\"categorical_crossentropy\",  # Suitable loss function for multi-class classification\n",
        "    metrics=[\"accuracy\"]  # Tracking accuracy as a performance metric\n",
        ")\n"
      ]
    },
    {
      "cell_type": "markdown",
      "metadata": {
        "id": "yFGaS72XsjQJ"
      },
      "source": [
        "### Validating your approach"
      ]
    },
    {
      "cell_type": "markdown",
      "metadata": {
        "id": "5fD0EI8WsjQJ"
      },
      "source": [
        "**Setting aside a validation set**"
      ]
    },
    {
      "cell_type": "code",
      "execution_count": 33,
      "metadata": {
        "id": "D6Z3cg1esjQJ"
      },
      "outputs": [],
      "source": [
        "# Splitting the training data into a validation set and a smaller training set\n",
        "x_val = x_train[:1000]  # First 1000 samples for validation\n",
        "partial_x_train = x_train[1000:]  # Remaining samples for training\n",
        "\n",
        "y_val = y_train[:1000]  # First 1000 labels for validation\n",
        "partial_y_train = y_train[1000:]  # Remaining labels for training\n"
      ]
    },
    {
      "cell_type": "markdown",
      "metadata": {
        "id": "Lede3uCXsjQJ"
      },
      "source": [
        "**Training the model**"
      ]
    },
    {
      "cell_type": "code",
      "execution_count": 34,
      "metadata": {
        "colab": {
          "base_uri": "https://localhost:8080/"
        },
        "id": "aSbnWmJVsjQJ",
        "outputId": "8341bcc6-c6b5-4cb7-c2cb-df52ebaca70c"
      },
      "outputs": [
        {
          "output_type": "stream",
          "name": "stdout",
          "text": [
            "Epoch 1/20\n",
            "\u001b[1m16/16\u001b[0m \u001b[32m━━━━━━━━━━━━━━━━━━━━\u001b[0m\u001b[37m\u001b[0m \u001b[1m2s\u001b[0m 82ms/step - accuracy: 0.4154 - loss: 3.2129 - val_accuracy: 0.6130 - val_loss: 1.8714\n",
            "Epoch 2/20\n",
            "\u001b[1m16/16\u001b[0m \u001b[32m━━━━━━━━━━━━━━━━━━━━\u001b[0m\u001b[37m\u001b[0m \u001b[1m3s\u001b[0m 80ms/step - accuracy: 0.6568 - loss: 1.6547 - val_accuracy: 0.6890 - val_loss: 1.4250\n",
            "Epoch 3/20\n",
            "\u001b[1m16/16\u001b[0m \u001b[32m━━━━━━━━━━━━━━━━━━━━\u001b[0m\u001b[37m\u001b[0m \u001b[1m2s\u001b[0m 61ms/step - accuracy: 0.7174 - loss: 1.2685 - val_accuracy: 0.7300 - val_loss: 1.2346\n",
            "Epoch 4/20\n",
            "\u001b[1m16/16\u001b[0m \u001b[32m━━━━━━━━━━━━━━━━━━━━\u001b[0m\u001b[37m\u001b[0m \u001b[1m1s\u001b[0m 56ms/step - accuracy: 0.7739 - loss: 1.0220 - val_accuracy: 0.7510 - val_loss: 1.1164\n",
            "Epoch 5/20\n",
            "\u001b[1m16/16\u001b[0m \u001b[32m━━━━━━━━━━━━━━━━━━━━\u001b[0m\u001b[37m\u001b[0m \u001b[1m1s\u001b[0m 53ms/step - accuracy: 0.8065 - loss: 0.8757 - val_accuracy: 0.7810 - val_loss: 1.0329\n",
            "Epoch 6/20\n",
            "\u001b[1m16/16\u001b[0m \u001b[32m━━━━━━━━━━━━━━━━━━━━\u001b[0m\u001b[37m\u001b[0m \u001b[1m1s\u001b[0m 54ms/step - accuracy: 0.8370 - loss: 0.7500 - val_accuracy: 0.7950 - val_loss: 0.9970\n",
            "Epoch 7/20\n",
            "\u001b[1m16/16\u001b[0m \u001b[32m━━━━━━━━━━━━━━━━━━━━\u001b[0m\u001b[37m\u001b[0m \u001b[1m1s\u001b[0m 58ms/step - accuracy: 0.8739 - loss: 0.5988 - val_accuracy: 0.7950 - val_loss: 0.9432\n",
            "Epoch 8/20\n",
            "\u001b[1m16/16\u001b[0m \u001b[32m━━━━━━━━━━━━━━━━━━━━\u001b[0m\u001b[37m\u001b[0m \u001b[1m1s\u001b[0m 52ms/step - accuracy: 0.8989 - loss: 0.4842 - val_accuracy: 0.8170 - val_loss: 0.8876\n",
            "Epoch 9/20\n",
            "\u001b[1m16/16\u001b[0m \u001b[32m━━━━━━━━━━━━━━━━━━━━\u001b[0m\u001b[37m\u001b[0m \u001b[1m1s\u001b[0m 57ms/step - accuracy: 0.9203 - loss: 0.3997 - val_accuracy: 0.8100 - val_loss: 0.8920\n",
            "Epoch 10/20\n",
            "\u001b[1m16/16\u001b[0m \u001b[32m━━━━━━━━━━━━━━━━━━━━\u001b[0m\u001b[37m\u001b[0m \u001b[1m1s\u001b[0m 57ms/step - accuracy: 0.9236 - loss: 0.3494 - val_accuracy: 0.7990 - val_loss: 0.8965\n",
            "Epoch 11/20\n",
            "\u001b[1m16/16\u001b[0m \u001b[32m━━━━━━━━━━━━━━━━━━━━\u001b[0m\u001b[37m\u001b[0m \u001b[1m1s\u001b[0m 59ms/step - accuracy: 0.9364 - loss: 0.3076 - val_accuracy: 0.8130 - val_loss: 0.8722\n",
            "Epoch 12/20\n",
            "\u001b[1m16/16\u001b[0m \u001b[32m━━━━━━━━━━━━━━━━━━━━\u001b[0m\u001b[37m\u001b[0m \u001b[1m2s\u001b[0m 82ms/step - accuracy: 0.9465 - loss: 0.2549 - val_accuracy: 0.8230 - val_loss: 0.8712\n",
            "Epoch 13/20\n",
            "\u001b[1m16/16\u001b[0m \u001b[32m━━━━━━━━━━━━━━━━━━━━\u001b[0m\u001b[37m\u001b[0m \u001b[1m1s\u001b[0m 88ms/step - accuracy: 0.9494 - loss: 0.2349 - val_accuracy: 0.8050 - val_loss: 0.9273\n",
            "Epoch 14/20\n",
            "\u001b[1m16/16\u001b[0m \u001b[32m━━━━━━━━━━━━━━━━━━━━\u001b[0m\u001b[37m\u001b[0m \u001b[1m1s\u001b[0m 64ms/step - accuracy: 0.9499 - loss: 0.2106 - val_accuracy: 0.8090 - val_loss: 0.8956\n",
            "Epoch 15/20\n",
            "\u001b[1m16/16\u001b[0m \u001b[32m━━━━━━━━━━━━━━━━━━━━\u001b[0m\u001b[37m\u001b[0m \u001b[1m1s\u001b[0m 62ms/step - accuracy: 0.9572 - loss: 0.1855 - val_accuracy: 0.8260 - val_loss: 0.8878\n",
            "Epoch 16/20\n",
            "\u001b[1m16/16\u001b[0m \u001b[32m━━━━━━━━━━━━━━━━━━━━\u001b[0m\u001b[37m\u001b[0m \u001b[1m1s\u001b[0m 55ms/step - accuracy: 0.9586 - loss: 0.1580 - val_accuracy: 0.8070 - val_loss: 0.9192\n",
            "Epoch 17/20\n",
            "\u001b[1m16/16\u001b[0m \u001b[32m━━━━━━━━━━━━━━━━━━━━\u001b[0m\u001b[37m\u001b[0m \u001b[1m1s\u001b[0m 54ms/step - accuracy: 0.9575 - loss: 0.1602 - val_accuracy: 0.8120 - val_loss: 0.9258\n",
            "Epoch 18/20\n",
            "\u001b[1m16/16\u001b[0m \u001b[32m━━━━━━━━━━━━━━━━━━━━\u001b[0m\u001b[37m\u001b[0m \u001b[1m1s\u001b[0m 54ms/step - accuracy: 0.9586 - loss: 0.1504 - val_accuracy: 0.8120 - val_loss: 0.9531\n",
            "Epoch 19/20\n",
            "\u001b[1m16/16\u001b[0m \u001b[32m━━━━━━━━━━━━━━━━━━━━\u001b[0m\u001b[37m\u001b[0m \u001b[1m1s\u001b[0m 54ms/step - accuracy: 0.9612 - loss: 0.1317 - val_accuracy: 0.8120 - val_loss: 0.9595\n",
            "Epoch 20/20\n",
            "\u001b[1m16/16\u001b[0m \u001b[32m━━━━━━━━━━━━━━━━━━━━\u001b[0m\u001b[37m\u001b[0m \u001b[1m1s\u001b[0m 53ms/step - accuracy: 0.9613 - loss: 0.1239 - val_accuracy: 0.8120 - val_loss: 0.9668\n"
          ]
        }
      ],
      "source": [
        "# Training the model with the training data and validating on the validation set\n",
        "history = model.fit(\n",
        "    partial_x_train,  # Training data (excluding validation set)\n",
        "    partial_y_train,  # Training labels\n",
        "    epochs=20,  # Number of times the model will see the entire dataset\n",
        "    batch_size=512,  # Number of samples per gradient update\n",
        "    validation_data=(x_val, y_val)  # Validation set to monitor overfitting\n",
        ")\n"
      ]
    },
    {
      "cell_type": "markdown",
      "metadata": {
        "id": "be1Y8FrDsjQJ"
      },
      "source": [
        "**Plotting the training and validation loss**"
      ]
    },
    {
      "cell_type": "code",
      "execution_count": 35,
      "metadata": {
        "colab": {
          "base_uri": "https://localhost:8080/",
          "height": 472
        },
        "id": "XY1sbfV5sjQJ",
        "outputId": "f8daffed-d0f9-4bba-e34f-a4b48bd45ad6"
      },
      "outputs": [
        {
          "output_type": "display_data",
          "data": {
            "text/plain": [
              "<Figure size 640x480 with 1 Axes>"
            ],
            "image/png": "[encoded data removed]"
          },
          "metadata": {}
        }
      ],
      "source": [
        "# Plotting the training and validation loss to analyze model performance\n",
        "loss = history.history[\"loss\"]  # Training loss values for each epoch\n",
        "val_loss = history.history[\"val_loss\"]  # Validation loss values for each epoch\n",
        "epochs = range(1, len(loss) + 1)  # Creating a range for the number of epochs\n",
        "\n",
        "plt.plot(epochs, loss, \"bo\", label=\"Training loss\")  # Plot training loss with blue dots\n",
        "plt.plot(epochs, val_loss, \"b\", label=\"Validation loss\")  # Plot validation loss with a solid blue line\n",
        "plt.title(\"Training and validation loss\")  # Title of the plot\n",
        "plt.xlabel(\"Epochs\")  # Label for x-axis\n",
        "plt.ylabel(\"Loss\")  # Label for y-axis\n",
        "plt.legend()  # Show legend\n",
        "plt.show()  # Display the plot\n"
      ]
    },
    {
      "cell_type": "markdown",
      "metadata": {
        "id": "2FxoRkJOsjQJ"
      },
      "source": [
        "**Plotting the training and validation accuracy**"
      ]
    },
    {
      "cell_type": "code",
      "execution_count": 36,
      "metadata": {
        "colab": {
          "base_uri": "https://localhost:8080/",
          "height": 472
        },
        "id": "N3lAEiHksjQJ",
        "outputId": "5dab9299-857c-4ae2-b7d2-d04d10568a17"
      },
      "outputs": [
        {
          "output_type": "display_data",
          "data": {
            "text/plain": [
              "<Figure size 640x480 with 1 Axes>"
            ],
            "image/png": "[encoded data removed]"
          },
          "metadata": {}
        }
      ],
      "source": [
        "# Clearing the current figure to avoid overlapping plots\n",
        "plt.clf()\n",
        "\n",
        "# Extracting accuracy values from training history\n",
        "acc = history.history[\"accuracy\"]  # Training accuracy values for each epoch\n",
        "val_acc = history.history[\"val_accuracy\"]  # Validation accuracy values for each epoch\n",
        "\n",
        "# Plotting the training and validation accuracy\n",
        "plt.plot(epochs, acc, \"bo\", label=\"Training accuracy\")  # Blue dots for training accuracy\n",
        "plt.plot(epochs, val_acc, \"b\", label=\"Validation accuracy\")  # Solid blue line for validation accuracy\n",
        "\n",
        "# Adding labels and title\n",
        "plt.title(\"Training and validation accuracy\")  # Title of the plot\n",
        "plt.xlabel(\"Epochs\")  # Label for x-axis\n",
        "plt.ylabel(\"Accuracy\")  # Label for y-axis\n",
        "plt.legend()  # Display the legend\n",
        "plt.show()  # Display the plot\n"
      ]
    },
    {
      "cell_type": "markdown",
      "metadata": {
        "id": "Z769WcCHsjQJ"
      },
      "source": [
        "**Retraining a model from scratch**"
      ]
    },
    {
      "cell_type": "code",
      "execution_count": 37,
      "metadata": {
        "colab": {
          "base_uri": "https://localhost:8080/"
        },
        "id": "5IphEuqJsjQJ",
        "outputId": "c4af572f-55ba-4c6a-8f45-a8cc4580b818"
      },
      "outputs": [
        {
          "output_type": "stream",
          "name": "stdout",
          "text": [
            "Epoch 1/9\n",
            "\u001b[1m18/18\u001b[0m \u001b[32m━━━━━━━━━━━━━━━━━━━━\u001b[0m\u001b[37m\u001b[0m \u001b[1m2s\u001b[0m 46ms/step - accuracy: 0.3987 - loss: 3.1009\n",
            "Epoch 2/9\n",
            "\u001b[1m18/18\u001b[0m \u001b[32m━━━━━━━━━━━━━━━━━━━━\u001b[0m\u001b[37m\u001b[0m \u001b[1m1s\u001b[0m 50ms/step - accuracy: 0.6666 - loss: 1.5348\n",
            "Epoch 3/9\n",
            "\u001b[1m18/18\u001b[0m \u001b[32m━━━━━━━━━━━━━━━━━━━━\u001b[0m\u001b[37m\u001b[0m \u001b[1m1s\u001b[0m 47ms/step - accuracy: 0.7534 - loss: 1.1290\n",
            "Epoch 4/9\n",
            "\u001b[1m18/18\u001b[0m \u001b[32m━━━━━━━━━━━━━━━━━━━━\u001b[0m\u001b[37m\u001b[0m \u001b[1m1s\u001b[0m 49ms/step - accuracy: 0.7936 - loss: 0.9576\n",
            "Epoch 5/9\n",
            "\u001b[1m18/18\u001b[0m \u001b[32m━━━━━━━━━━━━━━━━━━━━\u001b[0m\u001b[37m\u001b[0m \u001b[1m1s\u001b[0m 44ms/step - accuracy: 0.8302 - loss: 0.7710\n",
            "Epoch 6/9\n",
            "\u001b[1m18/18\u001b[0m \u001b[32m━━━━━━━━━━━━━━━━━━━━\u001b[0m\u001b[37m\u001b[0m \u001b[1m1s\u001b[0m 45ms/step - accuracy: 0.8580 - loss: 0.6319\n",
            "Epoch 7/9\n",
            "\u001b[1m18/18\u001b[0m \u001b[32m━━━━━━━━━━━━━━━━━━━━\u001b[0m\u001b[37m\u001b[0m \u001b[1m1s\u001b[0m 79ms/step - accuracy: 0.8889 - loss: 0.5246\n",
            "Epoch 8/9\n",
            "\u001b[1m18/18\u001b[0m \u001b[32m━━━━━━━━━━━━━━━━━━━━\u001b[0m\u001b[37m\u001b[0m \u001b[1m2s\u001b[0m 45ms/step - accuracy: 0.9041 - loss: 0.4501\n",
            "Epoch 9/9\n",
            "\u001b[1m18/18\u001b[0m \u001b[32m━━━━━━━━━━━━━━━━━━━━\u001b[0m\u001b[37m\u001b[0m \u001b[1m1s\u001b[0m 46ms/step - accuracy: 0.9219 - loss: 0.3733\n",
            "\u001b[1m71/71\u001b[0m \u001b[32m━━━━━━━━━━━━━━━━━━━━\u001b[0m\u001b[37m\u001b[0m \u001b[1m0s\u001b[0m 4ms/step - accuracy: 0.7969 - loss: 0.8968\n"
          ]
        }
      ],
      "source": [
        "# Defining the neural network model\n",
        "model = keras.Sequential([\n",
        "    layers.Dense(64, activation=\"relu\"),  # First hidden layer with 64 neurons and ReLU activation\n",
        "    layers.Dense(64, activation=\"relu\"),  # Second hidden layer with 64 neurons and ReLU activation\n",
        "    layers.Dense(46, activation=\"softmax\")  # Output layer with 46 neurons (one per class) and softmax activation for multi-class classification\n",
        "])\n",
        "\n",
        "# Compiling the model with the RMSprop optimizer, categorical crossentropy loss, and accuracy metric\n",
        "model.compile(optimizer=\"rmsprop\",\n",
        "              loss=\"categorical_crossentropy\",  # Suitable for multi-class classification\n",
        "              metrics=[\"accuracy\"])  # Track accuracy during training\n",
        "\n",
        "# Training the model using the full training dataset\n",
        "model.fit(x_train,\n",
        "          y_train,\n",
        "          epochs=9,  # Training for 9 epochs\n",
        "          batch_size=512)  # Using a batch size of 512 for efficient training\n",
        "\n",
        "# Evaluating the model's performance on the test dataset\n",
        "results = model.evaluate(x_test, y_test)  # Returns loss and accuracy on test data\n"
      ]
    },
    {
      "cell_type": "code",
      "execution_count": 36,
      "metadata": {
        "colab": {
          "base_uri": "https://localhost:8080/"
        },
        "id": "PrLBoILrsjQJ",
        "outputId": "578a1b9d-95df-4ac1-d2ea-16c91c7bb0fc"
      },
      "outputs": [
        {
          "output_type": "execute_result",
          "data": {
            "text/plain": [
              "[0.9323733448982239, 0.7880676984786987]"
            ]
          },
          "metadata": {},
          "execution_count": 36
        }
      ],
      "source": [
        "results"
      ]
    },
    {
      "cell_type": "code",
      "execution_count": 38,
      "metadata": {
        "colab": {
          "base_uri": "https://localhost:8080/"
        },
        "id": "7SFYh0GksjQK",
        "outputId": "29de8f49-2dfc-4dbe-d2c2-c48ee51fea91"
      },
      "outputs": [
        {
          "output_type": "execute_result",
          "data": {
            "text/plain": [
              "0.19323241317898487"
            ]
          },
          "metadata": {},
          "execution_count": 38
        }
      ],
      "source": [
        "import copy\n",
        "test_labels_copy = copy.copy(test_labels)  # Creating a copy of the test labels to avoid modifying the original data\n",
        "np.random.shuffle(test_labels_copy)  # Shuffling the copied test labels randomly\n",
        "\n",
        "# Comparing the shuffled labels with the original test labels\n",
        "hits_array = np.array(test_labels) == np.array(test_labels_copy)\n",
        "\n",
        "# Calculating the mean, which represents the proportion of labels that remained in the same position after shuffling\n",
        "hits_array.mean()\n"
      ]
    },
    {
      "cell_type": "markdown",
      "metadata": {
        "id": "nx46lXb_sjQK"
      },
      "source": [
        "### Generating predictions on new data"
      ]
    },
    {
      "cell_type": "code",
      "execution_count": 39,
      "metadata": {
        "colab": {
          "base_uri": "https://localhost:8080/"
        },
        "id": "v_d6764KsjQK",
        "outputId": "f4fbc587-c803-4643-fb23-5cc2368eb435"
      },
      "outputs": [
        {
          "output_type": "stream",
          "name": "stdout",
          "text": [
            "\u001b[1m71/71\u001b[0m \u001b[32m━━━━━━━━━━━━━━━━━━━━\u001b[0m\u001b[37m\u001b[0m \u001b[1m0s\u001b[0m 4ms/step\n"
          ]
        }
      ],
      "source": [
        "predictions = model.predict(x_test)  # Generating predictions for the test dataset"
      ]
    },
    {
      "cell_type": "code",
      "execution_count": 39,
      "metadata": {
        "colab": {
          "base_uri": "https://localhost:8080/"
        },
        "id": "PX6XX4xTsjQK",
        "outputId": "799daf0f-3890-40ee-c389-9f32039753e7"
      },
      "outputs": [
        {
          "output_type": "execute_result",
          "data": {
            "text/plain": [
              "(46,)"
            ]
          },
          "metadata": {},
          "execution_count": 39
        }
      ],
      "source": [
        "predictions[0].shape  # Checking the shape of the prediction for the first test sample"
      ]
    },
    {
      "cell_type": "code",
      "execution_count": 40,
      "metadata": {
        "colab": {
          "base_uri": "https://localhost:8080/"
        },
        "id": "ZK8BoWy5sjQK",
        "outputId": "df331687-a3a7-4023-a9ab-796568d4bfa1"
      },
      "outputs": [
        {
          "output_type": "execute_result",
          "data": {
            "text/plain": [
              "0.9999998"
            ]
          },
          "metadata": {},
          "execution_count": 40
        }
      ],
      "source": [
        "np.sum(predictions[0])  # Verifying that the sum of probabilities for the first test sample is 1"
      ]
    },
    {
      "cell_type": "code",
      "execution_count": 41,
      "metadata": {
        "colab": {
          "base_uri": "https://localhost:8080/"
        },
        "id": "iUDe3xp8sjQK",
        "outputId": "b2c379d8-ef9b-45ee-f70b-f8b6c0674b9a"
      },
      "outputs": [
        {
          "output_type": "execute_result",
          "data": {
            "text/plain": [
              "3"
            ]
          },
          "metadata": {},
          "execution_count": 41
        }
      ],
      "source": [
        "np.argmax(predictions[0])  # Identifying the class with the highest probability for the first test sample"
      ]
    },
    {
      "cell_type": "markdown",
      "metadata": {
        "id": "cyDo_EkUsjQK"
      },
      "source": [
        "### A different way to handle the labels and the loss"
      ]
    },
    {
      "cell_type": "code",
      "execution_count": 42,
      "metadata": {
        "id": "k29V0SQxsjQK"
      },
      "outputs": [],
      "source": [
        "y_train = np.array(train_labels)  # Converting training labels to a NumPy array for efficient processing\n",
        "y_test = np.array(test_labels)    # Converting test labels to a NumPy array for consistency in model input"
      ]
    },
    {
      "cell_type": "code",
      "execution_count": 43,
      "metadata": {
        "id": "fo2g8UQ6sjQK"
      },
      "outputs": [],
      "source": [
        "# Compile the model with RMSprop optimizer and sparse categorical cross-entropy loss\n",
        "model.compile(optimizer=\"rmsprop\",  # RMSprop optimizer helps with adaptive learning rates\n",
        "              loss=\"sparse_categorical_crossentropy\",  # Suitable for integer-labeled multi-class classification\n",
        "              metrics=[\"accuracy\"])  # Tracks accuracy during training and evaluation"
      ]
    },
    {
      "cell_type": "markdown",
      "metadata": {
        "id": "x4nvWmj-sjQK"
      },
      "source": [
        "### The importance of having sufficiently large intermediate layers"
      ]
    },
    {
      "cell_type": "markdown",
      "metadata": {
        "id": "NEVdlQQ8sjQK"
      },
      "source": [
        "**A model with an information bottleneck**"
      ]
    },
    {
      "cell_type": "code",
      "execution_count": 44,
      "metadata": {
        "colab": {
          "base_uri": "https://localhost:8080/"
        },
        "id": "7A4E0_oIsjQK",
        "outputId": "9cf64f7d-3642-46de-9592-b6f0701e7254"
      },
      "outputs": [
        {
          "output_type": "stream",
          "name": "stdout",
          "text": [
            "Epoch 1/20\n",
            "\u001b[1m63/63\u001b[0m \u001b[32m━━━━━━━━━━━━━━━━━━━━\u001b[0m\u001b[37m\u001b[0m \u001b[1m3s\u001b[0m 23ms/step - accuracy: 0.0513 - loss: 3.5753 - val_accuracy: 0.2570 - val_loss: 2.8668\n",
            "Epoch 2/20\n",
            "\u001b[1m63/63\u001b[0m \u001b[32m━━━━━━━━━━━━━━━━━━━━\u001b[0m\u001b[37m\u001b[0m \u001b[1m2s\u001b[0m 31ms/step - accuracy: 0.2810 - loss: 2.5743 - val_accuracy: 0.5830 - val_loss: 1.7891\n",
            "Epoch 3/20\n",
            "\u001b[1m63/63\u001b[0m \u001b[32m━━━━━━━━━━━━━━━━━━━━\u001b[0m\u001b[37m\u001b[0m \u001b[1m2s\u001b[0m 18ms/step - accuracy: 0.6011 - loss: 1.5339 - val_accuracy: 0.6320 - val_loss: 1.4112\n",
            "Epoch 4/20\n",
            "\u001b[1m63/63\u001b[0m \u001b[32m━━━━━━━━━━━━━━━━━━━━\u001b[0m\u001b[37m\u001b[0m \u001b[1m1s\u001b[0m 19ms/step - accuracy: 0.6860 - loss: 1.2433 - val_accuracy: 0.6910 - val_loss: 1.3336\n",
            "Epoch 5/20\n",
            "\u001b[1m63/63\u001b[0m \u001b[32m━━━━━━━━━━━━━━━━━━━━\u001b[0m\u001b[37m\u001b[0m \u001b[1m1s\u001b[0m 20ms/step - accuracy: 0.7488 - loss: 1.0483 - val_accuracy: 0.6940 - val_loss: 1.2913\n",
            "Epoch 6/20\n",
            "\u001b[1m63/63\u001b[0m \u001b[32m━━━━━━━━━━━━━━━━━━━━\u001b[0m\u001b[37m\u001b[0m \u001b[1m1s\u001b[0m 19ms/step - accuracy: 0.7765 - loss: 0.9507 - val_accuracy: 0.7070 - val_loss: 1.2739\n",
            "Epoch 7/20\n",
            "\u001b[1m63/63\u001b[0m \u001b[32m━━━━━━━━━━━━━━━━━━━━\u001b[0m\u001b[37m\u001b[0m \u001b[1m1s\u001b[0m 18ms/step - accuracy: 0.7859 - loss: 0.8964 - val_accuracy: 0.7120 - val_loss: 1.2732\n",
            "Epoch 8/20\n",
            "\u001b[1m63/63\u001b[0m \u001b[32m━━━━━━━━━━━━━━━━━━━━\u001b[0m\u001b[37m\u001b[0m \u001b[1m1s\u001b[0m 17ms/step - accuracy: 0.7993 - loss: 0.8164 - val_accuracy: 0.7210 - val_loss: 1.2727\n",
            "Epoch 9/20\n",
            "\u001b[1m63/63\u001b[0m \u001b[32m━━━━━━━━━━━━━━━━━━━━\u001b[0m\u001b[37m\u001b[0m \u001b[1m1s\u001b[0m 17ms/step - accuracy: 0.8029 - loss: 0.7999 - val_accuracy: 0.7110 - val_loss: 1.3527\n",
            "Epoch 10/20\n",
            "\u001b[1m63/63\u001b[0m \u001b[32m━━━━━━━━━━━━━━━━━━━━\u001b[0m\u001b[37m\u001b[0m \u001b[1m1s\u001b[0m 17ms/step - accuracy: 0.8224 - loss: 0.6882 - val_accuracy: 0.7290 - val_loss: 1.2963\n",
            "Epoch 11/20\n",
            "\u001b[1m63/63\u001b[0m \u001b[32m━━━━━━━━━━━━━━━━━━━━\u001b[0m\u001b[37m\u001b[0m \u001b[1m2s\u001b[0m 27ms/step - accuracy: 0.8306 - loss: 0.6710 - val_accuracy: 0.7190 - val_loss: 1.3596\n",
            "Epoch 12/20\n",
            "\u001b[1m63/63\u001b[0m \u001b[32m━━━━━━━━━━━━━━━━━━━━\u001b[0m\u001b[37m\u001b[0m \u001b[1m2s\u001b[0m 18ms/step - accuracy: 0.8484 - loss: 0.6175 - val_accuracy: 0.7260 - val_loss: 1.3745\n",
            "Epoch 13/20\n",
            "\u001b[1m63/63\u001b[0m \u001b[32m━━━━━━━━━━━━━━━━━━━━\u001b[0m\u001b[37m\u001b[0m \u001b[1m1s\u001b[0m 17ms/step - accuracy: 0.8557 - loss: 0.5860 - val_accuracy: 0.7260 - val_loss: 1.3923\n",
            "Epoch 14/20\n",
            "\u001b[1m63/63\u001b[0m \u001b[32m━━━━━━━━━━━━━━━━━━━━\u001b[0m\u001b[37m\u001b[0m \u001b[1m1s\u001b[0m 17ms/step - accuracy: 0.8584 - loss: 0.5554 - val_accuracy: 0.7250 - val_loss: 1.4333\n",
            "Epoch 15/20\n",
            "\u001b[1m63/63\u001b[0m \u001b[32m━━━━━━━━━━━━━━━━━━━━\u001b[0m\u001b[37m\u001b[0m \u001b[1m1s\u001b[0m 17ms/step - accuracy: 0.8592 - loss: 0.5414 - val_accuracy: 0.7150 - val_loss: 1.4747\n",
            "Epoch 16/20\n",
            "\u001b[1m63/63\u001b[0m \u001b[32m━━━━━━━━━━━━━━━━━━━━\u001b[0m\u001b[37m\u001b[0m \u001b[1m1s\u001b[0m 17ms/step - accuracy: 0.8734 - loss: 0.4987 - val_accuracy: 0.7240 - val_loss: 1.5053\n",
            "Epoch 17/20\n",
            "\u001b[1m63/63\u001b[0m \u001b[32m━━━━━━━━━━━━━━━━━━━━\u001b[0m\u001b[37m\u001b[0m \u001b[1m1s\u001b[0m 17ms/step - accuracy: 0.8706 - loss: 0.5044 - val_accuracy: 0.7190 - val_loss: 1.5455\n",
            "Epoch 18/20\n",
            "\u001b[1m63/63\u001b[0m \u001b[32m━━━━━━━━━━━━━━━━━━━━\u001b[0m\u001b[37m\u001b[0m \u001b[1m1s\u001b[0m 18ms/step - accuracy: 0.8729 - loss: 0.4667 - val_accuracy: 0.7170 - val_loss: 1.5756\n",
            "Epoch 19/20\n",
            "\u001b[1m63/63\u001b[0m \u001b[32m━━━━━━━━━━━━━━━━━━━━\u001b[0m\u001b[37m\u001b[0m \u001b[1m1s\u001b[0m 17ms/step - accuracy: 0.8762 - loss: 0.4581 - val_accuracy: 0.7190 - val_loss: 1.6868\n",
            "Epoch 20/20\n",
            "\u001b[1m63/63\u001b[0m \u001b[32m━━━━━━━━━━━━━━━━━━━━\u001b[0m\u001b[37m\u001b[0m \u001b[1m2s\u001b[0m 24ms/step - accuracy: 0.8765 - loss: 0.4429 - val_accuracy: 0.7170 - val_loss: 1.6900\n"
          ]
        }
      ],
      "source": [
        "from tensorflow import keras\n",
        "from tensorflow.keras import layers\n",
        "\n",
        "# Define a Sequential model with three dense layers\n",
        "model = keras.Sequential([\n",
        "    layers.Dense(64, activation=\"relu\"),  # First hidden layer with 64 neurons and ReLU activation\n",
        "    layers.Dense(4, activation=\"relu\"),   # Second hidden layer with only 4 neurons (may cause underfitting)\n",
        "    layers.Dense(46, activation=\"softmax\")  # Output layer with 46 neurons (one for each class), using softmax activation\n",
        "])\n",
        "\n",
        "# Compile the model with RMSprop optimizer and categorical cross-entropy loss\n",
        "model.compile(optimizer=\"rmsprop\",  # RMSprop optimizer for adaptive learning rates\n",
        "              loss=\"categorical_crossentropy\",  # Suitable for multi-class classification with one-hot encoded labels\n",
        "              metrics=[\"accuracy\"])  # Accuracy as the evaluation metric\n",
        "\n",
        "# Train the model using partial training data and validate on validation set\n",
        "history = model.fit(partial_x_train,  # Training input data\n",
        "                    partial_y_train,  # Training labels\n",
        "                    epochs=20,  # Train for 20 epochs\n",
        "                    batch_size=128,  # Process data in batches of 128\n",
        "                    validation_data=(x_val, y_val))  # Use validation set for performance tracking\n"
      ]
    },
    {
      "cell_type": "markdown",
      "metadata": {
        "id": "bWuPTYv5sjQK"
      },
      "source": [
        "### Further experiments"
      ]
    },
    {
      "cell_type": "markdown",
      "metadata": {
        "id": "8x_Tr0SzsjQK"
      },
      "source": [
        "### Wrapping up"
      ]
    },
    {
      "cell_type": "markdown",
      "metadata": {
        "id": "Grad7QwGsjQK"
      },
      "source": [
        "## Predicting house prices: A regression example"
      ]
    },
    {
      "cell_type": "markdown",
      "metadata": {
        "id": "q9TYAWHAsjQK"
      },
      "source": [
        "### The Boston Housing Price dataset"
      ]
    },
    {
      "cell_type": "markdown",
      "metadata": {
        "id": "3C8P8fzcsjQK"
      },
      "source": [
        "**Loading the Boston housing dataset**"
      ]
    },
    {
      "cell_type": "code",
      "execution_count": 45,
      "metadata": {
        "colab": {
          "base_uri": "https://localhost:8080/"
        },
        "id": "SKSba_shsjQK",
        "outputId": "694a1c71-8d4c-4d2e-ae80-971624973274"
      },
      "outputs": [
        {
          "output_type": "stream",
          "name": "stdout",
          "text": [
            "Downloading data from https://storage.googleapis.com/tensorflow/tf-keras-datasets/boston_housing.npz\n",
            "\u001b[1m57026/57026\u001b[0m \u001b[32m━━━━━━━━━━━━━━━━━━━━\u001b[0m\u001b[37m\u001b[0m \u001b[1m0s\u001b[0m 0us/step\n"
          ]
        }
      ],
      "source": [
        "from tensorflow.keras.datasets import boston_housing\n",
        "\n",
        "# Load the Boston Housing dataset\n",
        "(train_data, train_targets), (test_data, test_targets) = boston_housing.load_data()\n"
      ]
    },
    {
      "cell_type": "code",
      "execution_count": 46,
      "metadata": {
        "colab": {
          "base_uri": "https://localhost:8080/"
        },
        "id": "KCFUAZWwsjQL",
        "outputId": "d92920e6-f778-4c08-8d10-560c9631cfbe"
      },
      "outputs": [
        {
          "output_type": "execute_result",
          "data": {
            "text/plain": [
              "(404, 13)"
            ]
          },
          "metadata": {},
          "execution_count": 46
        }
      ],
      "source": [
        "train_data.shape"
      ]
    },
    {
      "cell_type": "code",
      "execution_count": 47,
      "metadata": {
        "colab": {
          "base_uri": "https://localhost:8080/"
        },
        "id": "ctZMXJ2dsjQL",
        "outputId": "ceb539d8-6a0f-4bbf-81b2-8a9d4ac77328"
      },
      "outputs": [
        {
          "output_type": "execute_result",
          "data": {
            "text/plain": [
              "(102, 13)"
            ]
          },
          "metadata": {},
          "execution_count": 47
        }
      ],
      "source": [
        "test_data.shape"
      ]
    },
    {
      "cell_type": "code",
      "execution_count": 48,
      "metadata": {
        "colab": {
          "base_uri": "https://localhost:8080/"
        },
        "id": "8qlAji9QsjQL",
        "outputId": "d7ad2b36-9da2-4649-b2a9-827583c5b63c"
      },
      "outputs": [
        {
          "output_type": "execute_result",
          "data": {
            "text/plain": [
              "array([15.2, 42.3, 50. , 21.1, 17.7, 18.5, 11.3, 15.6, 15.6, 14.4, 12.1,\n",
              "       17.9, 23.1, 19.9, 15.7,  8.8, 50. , 22.5, 24.1, 27.5, 10.9, 30.8,\n",
              "       32.9, 24. , 18.5, 13.3, 22.9, 34.7, 16.6, 17.5, 22.3, 16.1, 14.9,\n",
              "       23.1, 34.9, 25. , 13.9, 13.1, 20.4, 20. , 15.2, 24.7, 22.2, 16.7,\n",
              "       12.7, 15.6, 18.4, 21. , 30.1, 15.1, 18.7,  9.6, 31.5, 24.8, 19.1,\n",
              "       22. , 14.5, 11. , 32. , 29.4, 20.3, 24.4, 14.6, 19.5, 14.1, 14.3,\n",
              "       15.6, 10.5,  6.3, 19.3, 19.3, 13.4, 36.4, 17.8, 13.5, 16.5,  8.3,\n",
              "       14.3, 16. , 13.4, 28.6, 43.5, 20.2, 22. , 23. , 20.7, 12.5, 48.5,\n",
              "       14.6, 13.4, 23.7, 50. , 21.7, 39.8, 38.7, 22.2, 34.9, 22.5, 31.1,\n",
              "       28.7, 46. , 41.7, 21. , 26.6, 15. , 24.4, 13.3, 21.2, 11.7, 21.7,\n",
              "       19.4, 50. , 22.8, 19.7, 24.7, 36.2, 14.2, 18.9, 18.3, 20.6, 24.6,\n",
              "       18.2,  8.7, 44. , 10.4, 13.2, 21.2, 37. , 30.7, 22.9, 20. , 19.3,\n",
              "       31.7, 32. , 23.1, 18.8, 10.9, 50. , 19.6,  5. , 14.4, 19.8, 13.8,\n",
              "       19.6, 23.9, 24.5, 25. , 19.9, 17.2, 24.6, 13.5, 26.6, 21.4, 11.9,\n",
              "       22.6, 19.6,  8.5, 23.7, 23.1, 22.4, 20.5, 23.6, 18.4, 35.2, 23.1,\n",
              "       27.9, 20.6, 23.7, 28. , 13.6, 27.1, 23.6, 20.6, 18.2, 21.7, 17.1,\n",
              "        8.4, 25.3, 13.8, 22.2, 18.4, 20.7, 31.6, 30.5, 20.3,  8.8, 19.2,\n",
              "       19.4, 23.1, 23. , 14.8, 48.8, 22.6, 33.4, 21.1, 13.6, 32.2, 13.1,\n",
              "       23.4, 18.9, 23.9, 11.8, 23.3, 22.8, 19.6, 16.7, 13.4, 22.2, 20.4,\n",
              "       21.8, 26.4, 14.9, 24.1, 23.8, 12.3, 29.1, 21. , 19.5, 23.3, 23.8,\n",
              "       17.8, 11.5, 21.7, 19.9, 25. , 33.4, 28.5, 21.4, 24.3, 27.5, 33.1,\n",
              "       16.2, 23.3, 48.3, 22.9, 22.8, 13.1, 12.7, 22.6, 15. , 15.3, 10.5,\n",
              "       24. , 18.5, 21.7, 19.5, 33.2, 23.2,  5. , 19.1, 12.7, 22.3, 10.2,\n",
              "       13.9, 16.3, 17. , 20.1, 29.9, 17.2, 37.3, 45.4, 17.8, 23.2, 29. ,\n",
              "       22. , 18. , 17.4, 34.6, 20.1, 25. , 15.6, 24.8, 28.2, 21.2, 21.4,\n",
              "       23.8, 31. , 26.2, 17.4, 37.9, 17.5, 20. ,  8.3, 23.9,  8.4, 13.8,\n",
              "        7.2, 11.7, 17.1, 21.6, 50. , 16.1, 20.4, 20.6, 21.4, 20.6, 36.5,\n",
              "        8.5, 24.8, 10.8, 21.9, 17.3, 18.9, 36.2, 14.9, 18.2, 33.3, 21.8,\n",
              "       19.7, 31.6, 24.8, 19.4, 22.8,  7.5, 44.8, 16.8, 18.7, 50. , 50. ,\n",
              "       19.5, 20.1, 50. , 17.2, 20.8, 19.3, 41.3, 20.4, 20.5, 13.8, 16.5,\n",
              "       23.9, 20.6, 31.5, 23.3, 16.8, 14. , 33.8, 36.1, 12.8, 18.3, 18.7,\n",
              "       19.1, 29. , 30.1, 50. , 50. , 22. , 11.9, 37.6, 50. , 22.7, 20.8,\n",
              "       23.5, 27.9, 50. , 19.3, 23.9, 22.6, 15.2, 21.7, 19.2, 43.8, 20.3,\n",
              "       33.2, 19.9, 22.5, 32.7, 22. , 17.1, 19. , 15. , 16.1, 25.1, 23.7,\n",
              "       28.7, 37.2, 22.6, 16.4, 25. , 29.8, 22.1, 17.4, 18.1, 30.3, 17.5,\n",
              "       24.7, 12.6, 26.5, 28.7, 13.3, 10.4, 24.4, 23. , 20. , 17.8,  7. ,\n",
              "       11.8, 24.4, 13.8, 19.4, 25.2, 19.4, 19.4, 29.1])"
            ]
          },
          "metadata": {},
          "execution_count": 48
        }
      ],
      "source": [
        "train_targets"
      ]
    },
    {
      "cell_type": "markdown",
      "metadata": {
        "id": "BpybiH9HsjQL"
      },
      "source": [
        "### Preparing the data"
      ]
    },
    {
      "cell_type": "markdown",
      "metadata": {
        "id": "FRVU9vklsjQL"
      },
      "source": [
        "**Normalizing the data**"
      ]
    },
    {
      "cell_type": "code",
      "execution_count": 49,
      "metadata": {
        "id": "YdKrDSGvsjQL"
      },
      "outputs": [],
      "source": [
        "mean = train_data.mean(axis=0)  # Compute the mean of each feature (column-wise)\n",
        "train_data -= mean  # Subtract the mean from each feature\n",
        "std = train_data.std(axis=0)  # Compute the standard deviation of each feature\n",
        "train_data /= std  # Divide each feature by its standard deviation\n",
        "\n",
        "# Apply the same mean and std from training data to test data\n",
        "test_data -= mean\n",
        "test_data /= std\n"
      ]
    },
    {
      "cell_type": "markdown",
      "metadata": {
        "id": "cKSzs7qNsjQL"
      },
      "source": [
        "### Building your model"
      ]
    },
    {
      "cell_type": "markdown",
      "metadata": {
        "id": "aHmOq2cIsjQL"
      },
      "source": [
        "**Model definition**"
      ]
    },
    {
      "cell_type": "code",
      "execution_count": 50,
      "metadata": {
        "id": "0hEmETTSsjQL"
      },
      "outputs": [],
      "source": [
        "def build_model():\n",
        "    model = keras.Sequential([\n",
        "        layers.Dense(64, activation=\"relu\"),  # First hidden layer with 64 neurons and ReLU activation\n",
        "        layers.Dense(64, activation=\"relu\"),  # Second hidden layer with 64 neurons and ReLU activation\n",
        "        layers.Dense(1)  # Output layer with 1 neuron (predicting a continuous value)\n",
        "    ])\n",
        "    model.compile(\n",
        "        optimizer=\"rmsprop\",  # RMSprop optimizer for adaptive learning rate\n",
        "        loss=\"mse\",  # Mean Squared Error (MSE) as loss function (suitable for regression)\n",
        "        metrics=[\"mae\"]  # Mean Absolute Error (MAE) as an additional metric\n",
        "    )\n",
        "    return model  # Returns the compiled model\n"
      ]
    },
    {
      "cell_type": "markdown",
      "metadata": {
        "id": "u-fdZtOTsjQL"
      },
      "source": [
        "### Validating your approach using K-fold validation"
      ]
    },
    {
      "cell_type": "markdown",
      "metadata": {
        "id": "nrWH823usjQL"
      },
      "source": [
        "**K-fold validation**"
      ]
    },
    {
      "cell_type": "code",
      "execution_count": 51,
      "metadata": {
        "colab": {
          "base_uri": "https://localhost:8080/"
        },
        "id": "_fR3uku6sjQL",
        "outputId": "8daf614c-ce04-4dba-bbb8-474d371d0561"
      },
      "outputs": [
        {
          "output_type": "stream",
          "name": "stdout",
          "text": [
            "Processing fold #0\n",
            "Processing fold #1\n",
            "Processing fold #2\n",
            "Processing fold #3\n"
          ]
        }
      ],
      "source": [
        "# Number of folds for cross-validation\n",
        "k = 4\n",
        "\n",
        "# Number of validation samples per fold\n",
        "num_val_samples = len(train_data) // k\n",
        "\n",
        "# Number of training epochs per fold\n",
        "num_epochs = 100\n",
        "\n",
        "# List to store validation Mean Absolute Error (MAE) scores\n",
        "all_scores = []\n",
        "\n",
        "# Loop through each fold\n",
        "for i in range(k):\n",
        "    print(f\"Processing fold #{i}\")  # Indicate which fold is being processed\n",
        "\n",
        "    # Select the validation data for the current fold\n",
        "    val_data = train_data[i * num_val_samples: (i + 1) * num_val_samples]\n",
        "    val_targets = train_targets[i * num_val_samples: (i + 1) * num_val_samples]\n",
        "\n",
        "    # Select the training data by excluding the validation fold\n",
        "    partial_train_data = np.concatenate(\n",
        "        [train_data[:i * num_val_samples],  # Data before the validation set\n",
        "         train_data[(i + 1) * num_val_samples:]],  # Data after the validation set\n",
        "        axis=0)\n",
        "\n",
        "    # Select the training targets by excluding the validation fold\n",
        "    partial_train_targets = np.concatenate(\n",
        "        [train_targets[:i * num_val_samples],  # Targets before the validation set\n",
        "         train_targets[(i + 1) * num_val_samples:]],  # Targets after the validation set\n",
        "        axis=0)\n",
        "\n",
        "    # Build a fresh model for this fold\n",
        "    model = build_model()\n",
        "\n",
        "    # Train the model on the training data (excluding the validation fold)\n",
        "    model.fit(partial_train_data, partial_train_targets,\n",
        "              epochs=num_epochs, batch_size=16, verbose=0)  # Silent training\n",
        "\n",
        "    # Evaluate the model on the validation set\n",
        "    val_mse, val_mae = model.evaluate(val_data, val_targets, verbose=0)  # Get MSE and MAE\n",
        "\n",
        "    # Store the validation MAE for this fold\n",
        "    all_scores.append(val_mae)\n"
      ]
    },
    {
      "cell_type": "code",
      "execution_count": 52,
      "metadata": {
        "colab": {
          "base_uri": "https://localhost:8080/"
        },
        "id": "aZzz9AlwsjQL",
        "outputId": "92b83929-9380-4070-f15a-ecd1fb251965"
      },
      "outputs": [
        {
          "output_type": "execute_result",
          "data": {
            "text/plain": [
              "[1.9762396812438965, 2.310173988342285, 2.6596169471740723, 2.445335865020752]"
            ]
          },
          "metadata": {},
          "execution_count": 52
        }
      ],
      "source": [
        "all_scores"
      ]
    },
    {
      "cell_type": "code",
      "execution_count": 53,
      "metadata": {
        "colab": {
          "base_uri": "https://localhost:8080/"
        },
        "id": "KRRmJF0VsjQL",
        "outputId": "e95c9ad9-cc42-4de0-f995-8ef506ffc4f1"
      },
      "outputs": [
        {
          "output_type": "execute_result",
          "data": {
            "text/plain": [
              "2.3478416204452515"
            ]
          },
          "metadata": {},
          "execution_count": 53
        }
      ],
      "source": [
        "np.mean(all_scores)"
      ]
    },
    {
      "cell_type": "markdown",
      "metadata": {
        "id": "dMM1gFo9sjQL"
      },
      "source": [
        "**Saving the validation logs at each fold**"
      ]
    },
    {
      "cell_type": "code",
      "execution_count": 54,
      "metadata": {
        "colab": {
          "base_uri": "https://localhost:8080/"
        },
        "id": "G_iOk4spsjQL",
        "outputId": "065199c2-129a-44c8-d960-065a11b97c5a"
      },
      "outputs": [
        {
          "output_type": "stream",
          "name": "stdout",
          "text": [
            "Processing fold #0\n",
            "Processing fold #1\n",
            "Processing fold #2\n",
            "Processing fold #3\n"
          ]
        }
      ],
      "source": [
        "# Set the number of epochs for training\n",
        "num_epochs = 500\n",
        "\n",
        "# List to store validation MAE history for each fold\n",
        "all_mae_histories = []\n",
        "\n",
        "# Loop through each fold in k-fold cross-validation\n",
        "for i in range(k):\n",
        "    print(f\"Processing fold #{i}\")  # Indicate which fold is being processed\n",
        "\n",
        "    # Select the validation data for the current fold\n",
        "    val_data = train_data[i * num_val_samples: (i + 1) * num_val_samples]\n",
        "    val_targets = train_targets[i * num_val_samples: (i + 1) * num_val_samples]\n",
        "\n",
        "    # Select the training data by excluding the validation fold\n",
        "    partial_train_data = np.concatenate(\n",
        "        [train_data[:i * num_val_samples],  # Data before the validation set\n",
        "         train_data[(i + 1) * num_val_samples:]],  # Data after the validation set\n",
        "        axis=0)\n",
        "\n",
        "    # Select the training targets by excluding the validation fold\n",
        "    partial_train_targets = np.concatenate(\n",
        "        [train_targets[:i * num_val_samples],  # Targets before the validation set\n",
        "         train_targets[(i + 1) * num_val_samples:]],  # Targets after the validation set\n",
        "        axis=0)\n",
        "\n",
        "    # Build a fresh model for this fold\n",
        "    model = build_model()\n",
        "\n",
        "    # Train the model and store training history\n",
        "    history = model.fit(partial_train_data, partial_train_targets,\n",
        "                        validation_data=(val_data, val_targets),  # Use current fold as validation data\n",
        "                        epochs=num_epochs, batch_size=16, verbose=0)  # Silent training\n",
        "\n",
        "    # Extract validation MAE history for all epochs\n",
        "    mae_history = history.history[\"val_mae\"]\n",
        "\n",
        "    # Store the validation MAE history for this fold\n",
        "    all_mae_histories.append(mae_history)\n"
      ]
    },
    {
      "cell_type": "markdown",
      "metadata": {
        "id": "yWlHtzYSsjQL"
      },
      "source": [
        "**Building the history of successive mean K-fold validation scores**"
      ]
    },
    {
      "cell_type": "code",
      "execution_count": 57,
      "metadata": {
        "id": "NqPzFNzFsjQL"
      },
      "outputs": [],
      "source": [
        "# Compute the average validation MAE at each epoch across all k folds\n",
        "average_mae_history = [\n",
        "    np.mean([x[i] for x in all_mae_histories]) for i in range(num_epochs)] # Iterate over all epochs"
      ]
    },
    {
      "cell_type": "markdown",
      "metadata": {
        "id": "GcTrpecysjQM"
      },
      "source": [
        "**Plotting validation scores**"
      ]
    },
    {
      "cell_type": "code",
      "execution_count": 58,
      "metadata": {
        "colab": {
          "base_uri": "https://localhost:8080/",
          "height": 449
        },
        "id": "dv6sDEWksjQM",
        "outputId": "30a70c65-a7f8-4937-aaa6-563989445482"
      },
      "outputs": [
        {
          "output_type": "display_data",
          "data": {
            "text/plain": [
              "<Figure size 640x480 with 1 Axes>"
            ],
            "image/png": "[encoded data removed]"
          },
          "metadata": {}
        }
      ],
      "source": [
        "import matplotlib.pyplot as plt  # Import matplotlib for plotting\n",
        "\n",
        "# Plot the validation MAE over epochs\n",
        "plt.plot(range(1, len(average_mae_history) + 1), average_mae_history)  # X-axis: Epochs, Y-axis: Average validation MAE\n",
        "\n",
        "# Label the X-axis as 'Epochs'\n",
        "plt.xlabel(\"Epochs\")\n",
        "\n",
        "# Label the Y-axis as 'Validation MAE'\n",
        "plt.ylabel(\"Validation MAE\")\n",
        "\n",
        "# Display the plot\n",
        "plt.show()\n"
      ]
    },
    {
      "cell_type": "markdown",
      "metadata": {
        "id": "TqiyEgT6sjQM"
      },
      "source": [
        "**Plotting validation scores, excluding the first 10 data points**"
      ]
    },
    {
      "cell_type": "code",
      "execution_count": 59,
      "metadata": {
        "colab": {
          "base_uri": "https://localhost:8080/",
          "height": 449
        },
        "id": "YGU2ao1rsjQM",
        "outputId": "308323f9-e03c-451e-b97d-ab3fcb445f8d"
      },
      "outputs": [
        {
          "output_type": "display_data",
          "data": {
            "text/plain": [
              "<Figure size 640x480 with 1 Axes>"
            ],
            "image/png": "[encoded data removed]"
          },
          "metadata": {}
        }
      ],
      "source": [
        "# Remove the first 10 data points to reduce noise and focus on later epochs\n",
        "truncated_mae_history = average_mae_history[10:]\n",
        "\n",
        "# Plot the truncated validation MAE over epochs\n",
        "plt.plot(range(1, len(truncated_mae_history) + 1), truncated_mae_history)\n",
        "\n",
        "# Label the X-axis as 'Epochs'\n",
        "plt.xlabel(\"Epochs\")\n",
        "\n",
        "# Label the Y-axis as 'Validation MAE'\n",
        "plt.ylabel(\"Validation MAE\")\n",
        "\n",
        "# Display the plot\n",
        "plt.show()\n"
      ]
    },
    {
      "cell_type": "markdown",
      "metadata": {
        "id": "Sp3xayNHsjQM"
      },
      "source": [
        "**Training the final model**"
      ]
    },
    {
      "cell_type": "code",
      "execution_count": 60,
      "metadata": {
        "colab": {
          "base_uri": "https://localhost:8080/"
        },
        "id": "vwg696cKsjQM",
        "outputId": "c07a0706-6f36-4453-e0f5-799a06d6b7f5"
      },
      "outputs": [
        {
          "output_type": "stream",
          "name": "stdout",
          "text": [
            "\u001b[1m4/4\u001b[0m \u001b[32m━━━━━━━━━━━━━━━━━━━━\u001b[0m\u001b[37m\u001b[0m \u001b[1m0s\u001b[0m 9ms/step - loss: 11.3895 - mae: 2.2797 \n"
          ]
        }
      ],
      "source": [
        "# Build a new instance of the model\n",
        "model = build_model()\n",
        "\n",
        "# Train the model using the entire training dataset\n",
        "# - Epochs: 130 (train for 130 iterations over the dataset)\n",
        "# - Batch size: 16 (process 16 samples at a time)\n",
        "# - Verbose: 0 (suppress output during training)\n",
        "model.fit(train_data, train_targets,\n",
        "          epochs=130, batch_size=16, verbose=0)\n",
        "\n",
        "# Evaluate the trained model on the test dataset\n",
        "# - Returns Mean Squared Error (MSE) and Mean Absolute Error (MAE)\n",
        "test_mse_score, test_mae_score = model.evaluate(test_data, test_targets)\n"
      ]
    },
    {
      "cell_type": "code",
      "execution_count": 61,
      "metadata": {
        "colab": {
          "base_uri": "https://localhost:8080/"
        },
        "id": "TLDy-8HNsjQM",
        "outputId": "771dacfb-6fae-4998-b6a9-a7d70d5784ba"
      },
      "outputs": [
        {
          "output_type": "execute_result",
          "data": {
            "text/plain": [
              "2.489670991897583"
            ]
          },
          "metadata": {},
          "execution_count": 61
        }
      ],
      "source": [
        "test_mae_score"
      ]
    },
    {
      "cell_type": "markdown",
      "metadata": {
        "id": "Xt_E_b9jsjQM"
      },
      "source": [
        "### Generating predictions on new data"
      ]
    },
    {
      "cell_type": "code",
      "execution_count": 61,
      "metadata": {
        "colab": {
          "base_uri": "https://localhost:8080/"
        },
        "id": "8YNs_r-1sjQM",
        "outputId": "6abf4375-812d-416b-e25e-3e70cdda6e86"
      },
      "outputs": [
        {
          "output_type": "stream",
          "name": "stdout",
          "text": [
            "\u001b[1m4/4\u001b[0m \u001b[32m━━━━━━━━━━━━━━━━━━━━\u001b[0m\u001b[37m\u001b[0m \u001b[1m0s\u001b[0m 16ms/step\n"
          ]
        },
        {
          "output_type": "execute_result",
          "data": {
            "text/plain": [
              "array([9.597569], dtype=float32)"
            ]
          },
          "metadata": {},
          "execution_count": 61
        }
      ],
      "source": [
        "# Generate predictions on the test dataset\n",
        "predictions = model.predict(test_data)\n",
        "\n",
        "# Display the first predicted value\n",
        "predictions[0]\n"
      ]
    },
    {
      "cell_type": "markdown",
      "metadata": {
        "id": "9IvVp4pRsjQM"
      },
      "source": [
        "### Wrapping up"
      ]
    },
    {
      "cell_type": "markdown",
      "metadata": {
        "id": "Dvmmr6iGsjQM"
      },
      "source": [
        "## Summary"
      ]
    }
  ],
  "metadata": {
    "colab": {
      "provenance": []
    },
    "kernelspec": {
      "display_name": "Python 3",
      "language": "python",
      "name": "python3"
    },
    "language_info": {
      "codemirror_mode": {
        "name": "ipython",
        "version": 3
      },
      "file_extension": ".py",
      "mimetype": "text/x-python",
      "name": "python",
      "nbconvert_exporter": "python",
      "pygments_lexer": "ipython3",
      "version": "3.7.0"
    }
  },
  "nbformat": 4,
  "nbformat_minor": 0
}